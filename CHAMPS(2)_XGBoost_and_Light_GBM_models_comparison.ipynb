{
  "nbformat": 4,
  "nbformat_minor": 0,
  "metadata": {
    "kernelspec": {
      "language": "python",
      "display_name": "Python 3",
      "name": "python3"
    },
    "language_info": {
      "pygments_lexer": "ipython3",
      "nbconvert_exporter": "python",
      "version": "3.6.4",
      "file_extension": ".py",
      "codemirror_mode": {
        "name": "ipython",
        "version": 3
      },
      "name": "python",
      "mimetype": "text/x-python"
    },
    "colab": {
      "name": "CHAMPS(2)  - XGBoost and Light GBM models comparison.ipynb",
      "version": "0.3.2",
      "provenance": [],
      "include_colab_link": true
    }
  },
  "cells": [
    {
      "cell_type": "markdown",
      "metadata": {
        "id": "view-in-github",
        "colab_type": "text"
      },
      "source": [
        "<a href=\"https://colab.research.google.com/github/mathewhall100/CHAMPS-molecular-properties/blob/master/CHAMPS(2)_XGBoost_and_Light_GBM_models_comparison.ipynb\" target=\"_parent\"><img src=\"https://colab.research.google.com/assets/colab-badge.svg\" alt=\"Open In Colab\"/></a>"
      ]
    },
    {
      "cell_type": "markdown",
      "metadata": {
        "id": "5VfROvIlKiAa",
        "colab_type": "text"
      },
      "source": [
        "# CHAMPS molecular properties challenge - training and prediction using XGBoost and Light GBM models"
      ]
    },
    {
      "cell_type": "markdown",
      "metadata": {
        "id": "a0sS2TZ4KiAb",
        "colab_type": "text"
      },
      "source": [
        "## Introduction\n",
        "\n",
        "I have previously discussed the CHAMPS Molecular properties challenge and carried some EDA and feature construction from the competition datasets (https://www.kaggle.com/mathewhall/champs-molecular-properties-eda). Here we use the engineered data to train two popular gradient boosting machines, XBoost and LightGBM, and compare results. \n",
        "\n",
        "The clear winner, in this case LightGBM is taken and hyperparameters optimised using gridsearch.\n",
        "\n",
        "The Dataset was also subdivided by coupling type to see whether training and prediction on subsets of more structurally similar data improved the error.\n",
        "\n",
        "The lightGBM model trained with the whole dataset perfomed best and achieved a log mean absolute error (the competition metric) of -0.421. Test set predictions and submission to kagle gave a log MAE of -0.445 which placed 1697/2749 on the private leaderboard. "
      ]
    },
    {
      "cell_type": "markdown",
      "metadata": {
        "id": "YvmMSyYiKiAc",
        "colab_type": "text"
      },
      "source": [
        "## Library imports and notebook setup"
      ]
    },
    {
      "cell_type": "code",
      "metadata": {
        "trusted": true,
        "id": "TAOcXOYxKiAd",
        "colab_type": "code",
        "colab": {}
      },
      "source": [
        "# import all the other libraries we are going to need\n",
        "import os\n",
        "import numpy as np\n",
        "import pandas as pd\n",
        "import matplotlib as mpl\n",
        "import matplotlib.pyplot as plt\n",
        "import seaborn as sns\n",
        "from sklearn.model_selection import train_test_split\n",
        "from sklearn.preprocessing import LabelEncoder\n",
        "from sklearn.metrics import mean_absolute_error\n",
        "from tqdm import tqdm_notebook as tqdm"
      ],
      "execution_count": 0,
      "outputs": []
    },
    {
      "cell_type": "code",
      "metadata": {
        "trusted": true,
        "id": "80XZTnwiKiAf",
        "colab_type": "code",
        "colab": {}
      },
      "source": [
        "# Manage warnings\n",
        "import warnings\n",
        "warnings.filterwarnings(\"ignore\")\n",
        "warnings.filterwarnings(action=\"ignore\", category=DeprecationWarning)\n",
        "warnings.filterwarnings(action=\"ignore\", category=FutureWarning)"
      ],
      "execution_count": 0,
      "outputs": []
    },
    {
      "cell_type": "code",
      "metadata": {
        "trusted": true,
        "id": "dyOOBFICKiAi",
        "colab_type": "code",
        "colab": {}
      },
      "source": [
        "# show complete dataframes\n",
        "pd.set_option('display.max_columns', None) # display all dataframe columns"
      ],
      "execution_count": 0,
      "outputs": []
    },
    {
      "cell_type": "markdown",
      "metadata": {
        "id": "hycArMn1KiAk",
        "colab_type": "text"
      },
      "source": [
        "## Get data and briefly examine it\n",
        "For a more thorough EDA go to https://www.kaggle.com/mathewhall/champs-molecular-properties-eda"
      ]
    },
    {
      "cell_type": "code",
      "metadata": {
        "_uuid": "d629ff2d2480ee46fbb7e2d37f6b5fab8052498a",
        "_cell_guid": "79c7e3d0-c299-4dcb-8224-4455121ee9b0",
        "trusted": true,
        "id": "bI9g2tmIKiAl",
        "colab_type": "code",
        "colab": {},
        "outputId": "5650130e-3b9b-4cb1-bac8-ff12d9365f43"
      },
      "source": [
        "path = \"../input/champs-scalar-coupling\"\n",
        "os.listdir(path)"
      ],
      "execution_count": 0,
      "outputs": [
        {
          "output_type": "execute_result",
          "data": {
            "text/plain": [
              "['dipole_moments.csv',\n",
              " 'potential_energy.csv',\n",
              " 'magnetic_shielding_tensors.csv',\n",
              " 'structures.csv',\n",
              " 'scalar_coupling_contributions.csv',\n",
              " 'structures',\n",
              " 'sample_submission.csv',\n",
              " 'mulliken_charges.csv',\n",
              " 'test.csv',\n",
              " 'train.csv']"
            ]
          },
          "metadata": {
            "tags": []
          },
          "execution_count": 4
        }
      ]
    },
    {
      "cell_type": "markdown",
      "metadata": {
        "id": "NFsuxE3OKiAt",
        "colab_type": "text"
      },
      "source": [
        "We will only use three if the files provided:\n",
        "1. train.csv - coded molecules names, index of coupling atoms, coupling type and constant\n",
        "2. test.csv - same as test set but without coupling constants \n",
        "3. structures  - x,y cartesian co-ordinates of atom positions\n",
        "note that the coupling constant (scalar_coupling_constant) is the label."
      ]
    },
    {
      "cell_type": "code",
      "metadata": {
        "trusted": true,
        "id": "_S8VHSL9KiAu",
        "colab_type": "code",
        "colab": {},
        "outputId": "b2462bf9-96b4-45eb-9e3b-f7648cc4063d"
      },
      "source": [
        "# Read train.csv and test.csv and load into dataframes\n",
        "train_dtypes = {\n",
        "    'molecule_name': 'category',\n",
        "    'atom_index_0': 'int8',\n",
        "    'atom_index_1': 'int8',\n",
        "    'type': 'category',\n",
        "    'scalar_coupling_constant': 'float32'\n",
        "}\n",
        "train = pd.read_csv(path+'/train.csv', index_col='id', dtype=train_dtypes)\n",
        "test = pd.read_csv(path+'/test.csv', index_col='id', dtype=train_dtypes)\n",
        "\n",
        "# create'molecule_id' col from' molecule_name'\n",
        "train['mol_index'] = train['molecule_name'].str.replace('dsgdb9nsd_', '').astype('int32')\n",
        "test['mol_index'] = test['molecule_name'].str.replace('dsgdb9nsd_', '').astype('int32')\n",
        "train = train[['molecule_name', 'mol_index', 'atom_index_0', 'atom_index_1', 'type', 'scalar_coupling_constant']]\n",
        "test = test[['molecule_name', 'mol_index', 'atom_index_0', 'atom_index_1', 'type']]\n",
        "\n",
        "print('Training set:')\n",
        "display(train.head(5))\n",
        "print('Test set:')\n",
        "display(test.head(5))"
      ],
      "execution_count": 0,
      "outputs": [
        {
          "output_type": "stream",
          "text": [
            "Training set:\n"
          ],
          "name": "stdout"
        },
        {
          "output_type": "display_data",
          "data": {
            "text/plain": [
              "       molecule_name  mol_index  atom_index_0  atom_index_1  type  \\\n",
              "id                                                                  \n",
              "0   dsgdb9nsd_000001          1             1             0  1JHC   \n",
              "1   dsgdb9nsd_000001          1             1             2  2JHH   \n",
              "2   dsgdb9nsd_000001          1             1             3  2JHH   \n",
              "3   dsgdb9nsd_000001          1             1             4  2JHH   \n",
              "4   dsgdb9nsd_000001          1             2             0  1JHC   \n",
              "\n",
              "    scalar_coupling_constant  \n",
              "id                            \n",
              "0                  84.807602  \n",
              "1                 -11.257000  \n",
              "2                 -11.254800  \n",
              "3                 -11.254300  \n",
              "4                  84.807404  "
            ],
            "text/html": [
              "<div>\n",
              "<style scoped>\n",
              "    .dataframe tbody tr th:only-of-type {\n",
              "        vertical-align: middle;\n",
              "    }\n",
              "\n",
              "    .dataframe tbody tr th {\n",
              "        vertical-align: top;\n",
              "    }\n",
              "\n",
              "    .dataframe thead th {\n",
              "        text-align: right;\n",
              "    }\n",
              "</style>\n",
              "<table border=\"1\" class=\"dataframe\">\n",
              "  <thead>\n",
              "    <tr style=\"text-align: right;\">\n",
              "      <th></th>\n",
              "      <th>molecule_name</th>\n",
              "      <th>mol_index</th>\n",
              "      <th>atom_index_0</th>\n",
              "      <th>atom_index_1</th>\n",
              "      <th>type</th>\n",
              "      <th>scalar_coupling_constant</th>\n",
              "    </tr>\n",
              "    <tr>\n",
              "      <th>id</th>\n",
              "      <th></th>\n",
              "      <th></th>\n",
              "      <th></th>\n",
              "      <th></th>\n",
              "      <th></th>\n",
              "      <th></th>\n",
              "    </tr>\n",
              "  </thead>\n",
              "  <tbody>\n",
              "    <tr>\n",
              "      <th>0</th>\n",
              "      <td>dsgdb9nsd_000001</td>\n",
              "      <td>1</td>\n",
              "      <td>1</td>\n",
              "      <td>0</td>\n",
              "      <td>1JHC</td>\n",
              "      <td>84.807602</td>\n",
              "    </tr>\n",
              "    <tr>\n",
              "      <th>1</th>\n",
              "      <td>dsgdb9nsd_000001</td>\n",
              "      <td>1</td>\n",
              "      <td>1</td>\n",
              "      <td>2</td>\n",
              "      <td>2JHH</td>\n",
              "      <td>-11.257000</td>\n",
              "    </tr>\n",
              "    <tr>\n",
              "      <th>2</th>\n",
              "      <td>dsgdb9nsd_000001</td>\n",
              "      <td>1</td>\n",
              "      <td>1</td>\n",
              "      <td>3</td>\n",
              "      <td>2JHH</td>\n",
              "      <td>-11.254800</td>\n",
              "    </tr>\n",
              "    <tr>\n",
              "      <th>3</th>\n",
              "      <td>dsgdb9nsd_000001</td>\n",
              "      <td>1</td>\n",
              "      <td>1</td>\n",
              "      <td>4</td>\n",
              "      <td>2JHH</td>\n",
              "      <td>-11.254300</td>\n",
              "    </tr>\n",
              "    <tr>\n",
              "      <th>4</th>\n",
              "      <td>dsgdb9nsd_000001</td>\n",
              "      <td>1</td>\n",
              "      <td>2</td>\n",
              "      <td>0</td>\n",
              "      <td>1JHC</td>\n",
              "      <td>84.807404</td>\n",
              "    </tr>\n",
              "  </tbody>\n",
              "</table>\n",
              "</div>"
            ]
          },
          "metadata": {
            "tags": []
          }
        },
        {
          "output_type": "stream",
          "text": [
            "Test set:\n"
          ],
          "name": "stdout"
        },
        {
          "output_type": "display_data",
          "data": {
            "text/plain": [
              "            molecule_name  mol_index  atom_index_0  atom_index_1  type\n",
              "id                                                                    \n",
              "4658147  dsgdb9nsd_000004          4             2             0  2JHC\n",
              "4658148  dsgdb9nsd_000004          4             2             1  1JHC\n",
              "4658149  dsgdb9nsd_000004          4             2             3  3JHH\n",
              "4658150  dsgdb9nsd_000004          4             3             0  1JHC\n",
              "4658151  dsgdb9nsd_000004          4             3             1  2JHC"
            ],
            "text/html": [
              "<div>\n",
              "<style scoped>\n",
              "    .dataframe tbody tr th:only-of-type {\n",
              "        vertical-align: middle;\n",
              "    }\n",
              "\n",
              "    .dataframe tbody tr th {\n",
              "        vertical-align: top;\n",
              "    }\n",
              "\n",
              "    .dataframe thead th {\n",
              "        text-align: right;\n",
              "    }\n",
              "</style>\n",
              "<table border=\"1\" class=\"dataframe\">\n",
              "  <thead>\n",
              "    <tr style=\"text-align: right;\">\n",
              "      <th></th>\n",
              "      <th>molecule_name</th>\n",
              "      <th>mol_index</th>\n",
              "      <th>atom_index_0</th>\n",
              "      <th>atom_index_1</th>\n",
              "      <th>type</th>\n",
              "    </tr>\n",
              "    <tr>\n",
              "      <th>id</th>\n",
              "      <th></th>\n",
              "      <th></th>\n",
              "      <th></th>\n",
              "      <th></th>\n",
              "      <th></th>\n",
              "    </tr>\n",
              "  </thead>\n",
              "  <tbody>\n",
              "    <tr>\n",
              "      <th>4658147</th>\n",
              "      <td>dsgdb9nsd_000004</td>\n",
              "      <td>4</td>\n",
              "      <td>2</td>\n",
              "      <td>0</td>\n",
              "      <td>2JHC</td>\n",
              "    </tr>\n",
              "    <tr>\n",
              "      <th>4658148</th>\n",
              "      <td>dsgdb9nsd_000004</td>\n",
              "      <td>4</td>\n",
              "      <td>2</td>\n",
              "      <td>1</td>\n",
              "      <td>1JHC</td>\n",
              "    </tr>\n",
              "    <tr>\n",
              "      <th>4658149</th>\n",
              "      <td>dsgdb9nsd_000004</td>\n",
              "      <td>4</td>\n",
              "      <td>2</td>\n",
              "      <td>3</td>\n",
              "      <td>3JHH</td>\n",
              "    </tr>\n",
              "    <tr>\n",
              "      <th>4658150</th>\n",
              "      <td>dsgdb9nsd_000004</td>\n",
              "      <td>4</td>\n",
              "      <td>3</td>\n",
              "      <td>0</td>\n",
              "      <td>1JHC</td>\n",
              "    </tr>\n",
              "    <tr>\n",
              "      <th>4658151</th>\n",
              "      <td>dsgdb9nsd_000004</td>\n",
              "      <td>4</td>\n",
              "      <td>3</td>\n",
              "      <td>1</td>\n",
              "      <td>2JHC</td>\n",
              "    </tr>\n",
              "  </tbody>\n",
              "</table>\n",
              "</div>"
            ]
          },
          "metadata": {
            "tags": []
          }
        }
      ]
    },
    {
      "cell_type": "markdown",
      "metadata": {
        "id": "_JNU_XmSKiAx",
        "colab_type": "text"
      },
      "source": [
        "## Briefly check the datset \n",
        "\n",
        "For a more thourough EDA see https://www.kaggle.com/mathewhall/champs-molecular-properties-eda"
      ]
    },
    {
      "cell_type": "code",
      "metadata": {
        "trusted": true,
        "id": "GhYyn7OOKiAx",
        "colab_type": "code",
        "colab": {},
        "outputId": "37c9b322-944b-4e2a-fb9e-0bcf7c08a2c3"
      },
      "source": [
        "# Examine the train and test datasets\n",
        "train_data_rows = train.shape[0]\n",
        "test_data_rows = test.shape[0]\n",
        "train_unique_mols = train[\"molecule_name\"].nunique()\n",
        "test_unique_mols = test[\"molecule_name\"].nunique()\n",
        "train_test_split = round(train_unique_mols/(train_unique_mols+test_unique_mols), 2)\n",
        "scc_types = train[\"type\"].unique()\n",
        "\n",
        "print(f'Train and test sets')\n",
        "print(f'===================')\n",
        "print(f'Number rows in training set: {train_data_rows}')\n",
        "print(f'Number rows in test set: {test_data_rows}\\n')\n",
        "print(f'Unique molecules in training set: {train_unique_mols}')\n",
        "print(f'Unique molecules in test set: {test_unique_mols}')\n",
        "print(f'Total unique molecules: {train_unique_mols + test_unique_mols}')\n",
        "print(f'Train/test split (by molecule): {train_test_split}:{1-train_test_split}\\n')\n",
        "print(f'Types of scaler coupling: {len(scc_types)} {scc_types}\\n')\n",
        "\n",
        "print(f'Check for missing values in train set: {\"None\" if train.isnull().sum().sum() == 0 else train.isnull().sum()}')\n",
        "print(f'Check for missing values in test set: {\"None\" if test.isnull().sum().sum() == 0 else test.isnull().sum()}')"
      ],
      "execution_count": 0,
      "outputs": [
        {
          "output_type": "stream",
          "text": [
            "Train and test sets\n",
            "===================\n",
            "Number rows in training set: 4658147\n",
            "Number rows in test set: 2505542\n",
            "\n",
            "Unique molecules in training set: 85003\n",
            "Unique molecules in test set: 45772\n",
            "Total unique molecules: 130775\n",
            "Train/test split (by molecule): 0.65:0.35\n",
            "\n",
            "Types of scaler coupling: 8 [1JHC, 2JHH, 1JHN, 2JHN, 2JHC, 3JHH, 3JHC, 3JHN]\n",
            "Categories (8, object): [1JHC, 2JHH, 1JHN, 2JHN, 2JHC, 3JHH, 3JHC, 3JHN]\n",
            "\n",
            "Check for missing values in train set: None\n",
            "Check for missing values in test set: None\n"
          ],
          "name": "stdout"
        }
      ]
    },
    {
      "cell_type": "code",
      "metadata": {
        "trusted": true,
        "id": "mxNIXV0_KiA0",
        "colab_type": "code",
        "colab": {},
        "outputId": "c3d3601b-b0a4-4fd2-b1cb-622a9f2e9c6c"
      },
      "source": [
        "# Read structures.csv and load into dataframe\n",
        "structures_dtypes = {\n",
        "    'molecule_name': 'category',\n",
        "    'atom_index': 'int8',\n",
        "    'atom': 'category',\n",
        "    'x': 'float32',\n",
        "    'y': 'float32',\n",
        "    'z': 'float32'\n",
        "}\n",
        "structures = pd.read_csv(path+'/structures.csv', dtype=structures_dtypes)\n",
        "\n",
        "print('Structures dataset:')\n",
        "display(structures.head(5))"
      ],
      "execution_count": 0,
      "outputs": [
        {
          "output_type": "stream",
          "text": [
            "Structures dataset:\n"
          ],
          "name": "stdout"
        },
        {
          "output_type": "display_data",
          "data": {
            "text/plain": [
              "      molecule_name  atom_index atom         x         y         z\n",
              "0  dsgdb9nsd_000001           0    C -0.012698  1.085804  0.008001\n",
              "1  dsgdb9nsd_000001           1    H  0.002150 -0.006031  0.001976\n",
              "2  dsgdb9nsd_000001           2    H  1.011731  1.463751  0.000277\n",
              "3  dsgdb9nsd_000001           3    H -0.540815  1.447527 -0.876644\n",
              "4  dsgdb9nsd_000001           4    H -0.523814  1.437933  0.906397"
            ],
            "text/html": [
              "<div>\n",
              "<style scoped>\n",
              "    .dataframe tbody tr th:only-of-type {\n",
              "        vertical-align: middle;\n",
              "    }\n",
              "\n",
              "    .dataframe tbody tr th {\n",
              "        vertical-align: top;\n",
              "    }\n",
              "\n",
              "    .dataframe thead th {\n",
              "        text-align: right;\n",
              "    }\n",
              "</style>\n",
              "<table border=\"1\" class=\"dataframe\">\n",
              "  <thead>\n",
              "    <tr style=\"text-align: right;\">\n",
              "      <th></th>\n",
              "      <th>molecule_name</th>\n",
              "      <th>atom_index</th>\n",
              "      <th>atom</th>\n",
              "      <th>x</th>\n",
              "      <th>y</th>\n",
              "      <th>z</th>\n",
              "    </tr>\n",
              "  </thead>\n",
              "  <tbody>\n",
              "    <tr>\n",
              "      <th>0</th>\n",
              "      <td>dsgdb9nsd_000001</td>\n",
              "      <td>0</td>\n",
              "      <td>C</td>\n",
              "      <td>-0.012698</td>\n",
              "      <td>1.085804</td>\n",
              "      <td>0.008001</td>\n",
              "    </tr>\n",
              "    <tr>\n",
              "      <th>1</th>\n",
              "      <td>dsgdb9nsd_000001</td>\n",
              "      <td>1</td>\n",
              "      <td>H</td>\n",
              "      <td>0.002150</td>\n",
              "      <td>-0.006031</td>\n",
              "      <td>0.001976</td>\n",
              "    </tr>\n",
              "    <tr>\n",
              "      <th>2</th>\n",
              "      <td>dsgdb9nsd_000001</td>\n",
              "      <td>2</td>\n",
              "      <td>H</td>\n",
              "      <td>1.011731</td>\n",
              "      <td>1.463751</td>\n",
              "      <td>0.000277</td>\n",
              "    </tr>\n",
              "    <tr>\n",
              "      <th>3</th>\n",
              "      <td>dsgdb9nsd_000001</td>\n",
              "      <td>3</td>\n",
              "      <td>H</td>\n",
              "      <td>-0.540815</td>\n",
              "      <td>1.447527</td>\n",
              "      <td>-0.876644</td>\n",
              "    </tr>\n",
              "    <tr>\n",
              "      <th>4</th>\n",
              "      <td>dsgdb9nsd_000001</td>\n",
              "      <td>4</td>\n",
              "      <td>H</td>\n",
              "      <td>-0.523814</td>\n",
              "      <td>1.437933</td>\n",
              "      <td>0.906397</td>\n",
              "    </tr>\n",
              "  </tbody>\n",
              "</table>\n",
              "</div>"
            ]
          },
          "metadata": {
            "tags": []
          }
        }
      ]
    },
    {
      "cell_type": "code",
      "metadata": {
        "trusted": true,
        "id": "R83CgBBGKiA2",
        "colab_type": "code",
        "colab": {},
        "outputId": "16db575b-065d-4a4c-ef91-391dca4d23a6"
      },
      "source": [
        "# examine the structures dataset\n",
        "structures_data_rows = structures.shape[0]\n",
        "structures_unique_mols = structures[\"molecule_name\"].nunique()\n",
        "atom_types = structures[\"atom\"].unique()\n",
        "print(f'STRUCTURES')\n",
        "print(f'==========')\n",
        "print(f'Number rows in structures set: {structures_data_rows}')\n",
        "print(f'Unique molecules: {structures_unique_mols}')\n",
        "print(f'Unique atoms: {len(atom_types)} {atom_types}\\n')\n",
        "print(f'Check \\'structures\\' contains same number of molecules as \\'train\\' and \\'test\\'  combined: {\"True\" if structures_unique_mols == train_unique_mols+test_unique_mols else \"False\"}')\n",
        "print(f'Check for missing values: {\"None\" if structures.isnull().sum().sum() == 0 else structures.isnull().sum()}')"
      ],
      "execution_count": 0,
      "outputs": [
        {
          "output_type": "stream",
          "text": [
            "STRUCTURES\n",
            "==========\n",
            "Number rows in structures set: 2358657\n",
            "Unique molecules: 130775\n",
            "Unique atoms: 5 [C, H, N, O, F]\n",
            "Categories (5, object): [C, H, N, O, F]\n",
            "\n",
            "Check 'structures' contains same number of molecules as 'train' and 'test'  combined: True\n",
            "Check for missing values: None\n"
          ],
          "name": "stdout"
        }
      ]
    },
    {
      "cell_type": "markdown",
      "metadata": {
        "id": "yDNOTChSKiA5",
        "colab_type": "text"
      },
      "source": [
        "## Utilities"
      ]
    },
    {
      "cell_type": "code",
      "metadata": {
        "trusted": true,
        "id": "e7ZG7su1KiA6",
        "colab_type": "code",
        "colab": {}
      },
      "source": [
        "# Scatterplot of actual vs predictions for each model\n",
        "def plot_preds(data, model_name):\n",
        "    plt.figure(figsize=(6,6))\n",
        "    scatterplt = sns.scatterplot(x=data[\"scalar_coupling_constants\"], y=data['preds'])\n",
        "    scatterplt.set(xlabel='Scalar_coupling_constants (SCC)', ylabel='SCC predicted')\n",
        "    plt.title(f'Actual vs predicted coupling constants for {model_name}', pad=20)\n",
        "    plt.show()"
      ],
      "execution_count": 0,
      "outputs": []
    },
    {
      "cell_type": "code",
      "metadata": {
        "trusted": true,
        "id": "vHF_xRWvKiA9",
        "colab_type": "code",
        "colab": {},
        "outputId": "d9a7cf1b-7b4e-4d4a-8cab-3b0e36824547"
      },
      "source": [
        "# check dataframe mem usage\n",
        "print('Shape: ', train.shape)\n",
        "print('Total Mem usage: ', train.memory_usage().sum())\n",
        "train.memory_usage()"
      ],
      "execution_count": 0,
      "outputs": [
        {
          "output_type": "stream",
          "text": [
            "Shape:  (4658147, 6)\n",
            "Total Mem usage:  110439229\n"
          ],
          "name": "stdout"
        },
        {
          "output_type": "execute_result",
          "data": {
            "text/plain": [
              "Index                       37265176\n",
              "molecule_name               21934052\n",
              "mol_index                   18632588\n",
              "atom_index_0                 4658147\n",
              "atom_index_1                 4658147\n",
              "type                         4658531\n",
              "scalar_coupling_constant    18632588\n",
              "dtype: int64"
            ]
          },
          "metadata": {
            "tags": []
          },
          "execution_count": 10
        }
      ]
    },
    {
      "cell_type": "code",
      "metadata": {
        "trusted": true,
        "id": "3M2qn8-LKiBA",
        "colab_type": "code",
        "colab": {}
      },
      "source": [
        "# Minimise dataframe mem usage \n",
        "def reduce_mem_usage(df, verbose=True):\n",
        "    numerics = ['int16', 'int32', 'int64', 'float64']\n",
        "    start_mem = df.memory_usage().sum() / 1024**2    \n",
        "    for col in df.columns:\n",
        "        col_type = df[col].dtypes\n",
        "        if col_type in numerics:\n",
        "            c_min = df[col].min()\n",
        "            c_max = df[col].max()\n",
        "            if str(col_type)[:3] == 'int':\n",
        "                if c_min > np.iinfo(np.int8).min and c_max < np.iinfo(np.int8).max:\n",
        "                    df[col] = df[col].astype(np.int8)\n",
        "                elif c_min > np.iinfo(np.int16).min and c_max < np.iinfo(np.int16).max:\n",
        "                    df[col] = df[col].astype(np.int16)\n",
        "                elif c_min > np.iinfo(np.int32).min and c_max < np.iinfo(np.int32).max:\n",
        "                    df[col] = df[col].astype(np.int32)\n",
        "                elif c_min > np.iinfo(np.int64).min and c_max < np.iinfo(np.int64).max:\n",
        "                    df[col] = df[col].astype(np.int64)  \n",
        "            else:\n",
        "                if c_min > np.finfo(np.float16).min and c_max < np.finfo(np.float16).max:\n",
        "                    df[col] = df[col].astype(np.float16)\n",
        "                elif c_min > np.finfo(np.float32).min and c_max < np.finfo(np.float32).max:\n",
        "                    df[col] = df[col].astype(np.float32)\n",
        "                else:\n",
        "                    df[col] = df[col].astype(np.float64)    \n",
        "    end_mem = df.memory_usage().sum() / 1024**2\n",
        "    if verbose: print('Mem. usage decreased to {:5.2f} Mb ({:.1f}% reduction)'.format(end_mem, 100 * (start_mem - end_mem) / start_mem))\n",
        "    return df\n"
      ],
      "execution_count": 0,
      "outputs": []
    },
    {
      "cell_type": "code",
      "metadata": {
        "trusted": true,
        "id": "UjlwC1OpKiBC",
        "colab_type": "code",
        "colab": {}
      },
      "source": [
        "# Read in a file and optimise its memory usage\n",
        "def import_data(file):\n",
        "    df = pd.read_csv(file, parse_dates=True, keep_dat_col=True)\n",
        "    df = reduce_mem_usage(df)\n",
        "    return df"
      ],
      "execution_count": 0,
      "outputs": []
    },
    {
      "cell_type": "markdown",
      "metadata": {
        "id": "UF9T9lYMKiBF",
        "colab_type": "text"
      },
      "source": [
        "## Construct Features\n",
        "\n",
        "See https://www.kaggle.com/mathewhall/champs-molecular-properties-eda for a more detailed description of feature construction and analysis.\n",
        "\n",
        "Thank you to the following kernals and datasets for inspiration, data and code examples: https://www.kaggle.com/soerendip/angle-and-dihedral-for-the-champs-structures, https://www.kaggle.com/criskiev/distance-is-all-you-need-lb-1-481, https://www.kaggle.com/aekoch95/bonds-from-structure-data\n"
      ]
    },
    {
      "cell_type": "code",
      "metadata": {
        "trusted": true,
        "id": "Az6HGAqwKiBF",
        "colab_type": "code",
        "colab": {}
      },
      "source": [
        "# Calculate chemical bonding of each atom (number bonds, index atom(s) bonded to and bond length(s))\n",
        "# Returns datafarme of bonding data\n",
        "\n",
        "def add_bonds(structures):\n",
        "    \n",
        "    atom_rad= {'H':0.38, 'C':0.77, 'N':0.75, 'O':0.73, 'F':0.71}          \n",
        "    structures['rad'] = [atom_rad[x] for x in structures['atom'].values]\n",
        "    \n",
        "    bonding_margin= 0.05\n",
        "    index_atom = structures['atom_index'].values\n",
        "    p_comp = p = structures[['x','y','z']].values\n",
        "    m_comp = m = structures['molecule_name'].values\n",
        "    r_comp = r = structures['rad'].values + bonding_margin\n",
        "\n",
        "    src_row = np.arange(len(structures))\n",
        "    max_atoms = 29\n",
        "    bonds = np.zeros((len(structures)+1, max_atoms), dtype=np.int8)\n",
        "    bond_dists = np.zeros((len(structures)+1, max_atoms), dtype=np.float32)\n",
        "    \n",
        "    for i in tqdm(range(max_atoms-1), desc=\"Calculating bonds: \"):\n",
        "        p_comp = np.roll(p_comp, -1, axis=0)\n",
        "        m_comp = np.roll(m_comp, -1, axis=0)\n",
        "        r_comp = np.roll(r_comp, -1, axis=0)\n",
        "\n",
        "        mask = np.where(m == m_comp, 1, 0)\n",
        "        dists = np.linalg.norm(p - p_comp, axis=1) * mask\n",
        "    \n",
        "        r_bond = r + r_comp\n",
        "        bond = np.where(np.logical_and(dists > 0.0001, dists < r_bond), 1, 0)\n",
        "\n",
        "        targ_row = src_row + i +1\n",
        "        targ_row = np.where(np.logical_or(targ_row > len(structures), mask==0), len(structures), targ_row)\n",
        "\n",
        "        src_atom = index_atom\n",
        "        targ_atom = index_atom + i + 1\n",
        "        targ_atom = np.where(np.logical_or(targ_atom > max_atoms-1, mask==0), max_atoms-1, targ_atom)\n",
        "\n",
        "        bonds[(src_row, targ_atom)] = bond\n",
        "        bonds[(targ_row, src_atom)] = bond\n",
        "        bond_dists[(src_row, targ_atom)] = dists\n",
        "        bond_dists[(targ_row, src_atom)] = dists\n",
        "\n",
        "    bonds = np.delete(bonds, axis=0, obj=-1)\n",
        "    bonds = np.delete(bonds, axis=1, obj=-1)\n",
        "    bond_dists = np.delete(bond_dists, axis=0, obj=-1)\n",
        "    bond_dists = np.delete(bond_dists, axis=1, obj=-1)\n",
        "    \n",
        "    print('Processing bond calculations...')\n",
        "    bonds_to = [[i for i, x in enumerate(row) if x] for row in bonds]\n",
        "    bond_lengths = [[dist for i, dist in enumerate(row) if i in bonds_to[j]] for j,row in enumerate(bond_dists)]\n",
        "    n_bonds = [len(x) for x in bonds_to]\n",
        "   \n",
        "    print('Creating bonds dataframe...')\n",
        "    bonds_df = pd.DataFrame({'num_bonds':n_bonds, 'bond_lengths':bond_lengths})\n",
        "    bonds_df[['bond_len1', 'bond_len2', 'bond_len3', 'bond_len4']] = pd.DataFrame(bonds_df.bond_lengths.values.tolist())\n",
        "    bonds_df.fillna({'bond_len1':0, 'bond_len2':0, 'bond_len3':0, 'bond_len4':0}, inplace=True) # replace NaN's with 0's\n",
        "    bonds_df.drop('bond_lengths', axis=1, inplace=True)\n",
        "    \n",
        "    structures.drop('rad', axis=1, inplace=True) #needed only for bonding calculations\n",
        "    \n",
        "    print(f'Check \\'bonds dataframe\\' contains same number of rows as \\'structures\\': {\"True\" if structures_data_rows == bonds_df.shape[0] else \"False\"}')\n",
        "    return bonds_df"
      ],
      "execution_count": 0,
      "outputs": []
    },
    {
      "cell_type": "code",
      "metadata": {
        "trusted": true,
        "id": "J4m5lvw4KiBH",
        "colab_type": "code",
        "colab": {},
        "outputId": "67938d34-f69a-4a4c-e34e-015f55b48208"
      },
      "source": [
        "# Add bonding lengths to structures dataset \n",
        "\n",
        "print('Adding bonding features \\'num_bonds\\' & \\'bond_len(1-4)\\' to \\'structures\\' ')\n",
        "bonds_df = add_bonds(structures)\n",
        "structures = structures.join(bonds_df)\n",
        "structures.head()"
      ],
      "execution_count": 0,
      "outputs": [
        {
          "output_type": "stream",
          "text": [
            "Adding bonding features 'num_bonds' & 'bond_len(1-4)' to 'structures' \n"
          ],
          "name": "stdout"
        },
        {
          "output_type": "display_data",
          "data": {
            "text/plain": [
              "HBox(children=(IntProgress(value=0, description='Calculating bonds: ', max=28, style=ProgressStyle(description…"
            ],
            "application/vnd.jupyter.widget-view+json": {
              "version_major": 2,
              "version_minor": 0,
              "model_id": "4458cd1c4e5f438f924b75c6fd2162bc"
            }
          },
          "metadata": {
            "tags": []
          }
        },
        {
          "output_type": "stream",
          "text": [
            "\n",
            "Processing bond calculations...\n",
            "Creating bonds dataframe...\n",
            "Check 'bonds dataframe' contains same number of rows as 'structures': True\n"
          ],
          "name": "stdout"
        },
        {
          "output_type": "execute_result",
          "data": {
            "text/plain": [
              "      molecule_name  atom_index atom         x         y         z  num_bonds  \\\n",
              "0  dsgdb9nsd_000001           0    C -0.012698  1.085804  0.008001          4   \n",
              "1  dsgdb9nsd_000001           1    H  0.002150 -0.006031  0.001976          1   \n",
              "2  dsgdb9nsd_000001           2    H  1.011731  1.463751  0.000277          1   \n",
              "3  dsgdb9nsd_000001           3    H -0.540815  1.447527 -0.876644          1   \n",
              "4  dsgdb9nsd_000001           4    H -0.523814  1.437933  0.906397          1   \n",
              "\n",
              "   bond_len1  bond_len2  bond_len3  bond_len4  \n",
              "0   1.091953   1.091952   1.091946   1.091948  \n",
              "1   1.091953   0.000000   0.000000   0.000000  \n",
              "2   1.091952   0.000000   0.000000   0.000000  \n",
              "3   1.091946   0.000000   0.000000   0.000000  \n",
              "4   1.091948   0.000000   0.000000   0.000000  "
            ],
            "text/html": [
              "<div>\n",
              "<style scoped>\n",
              "    .dataframe tbody tr th:only-of-type {\n",
              "        vertical-align: middle;\n",
              "    }\n",
              "\n",
              "    .dataframe tbody tr th {\n",
              "        vertical-align: top;\n",
              "    }\n",
              "\n",
              "    .dataframe thead th {\n",
              "        text-align: right;\n",
              "    }\n",
              "</style>\n",
              "<table border=\"1\" class=\"dataframe\">\n",
              "  <thead>\n",
              "    <tr style=\"text-align: right;\">\n",
              "      <th></th>\n",
              "      <th>molecule_name</th>\n",
              "      <th>atom_index</th>\n",
              "      <th>atom</th>\n",
              "      <th>x</th>\n",
              "      <th>y</th>\n",
              "      <th>z</th>\n",
              "      <th>num_bonds</th>\n",
              "      <th>bond_len1</th>\n",
              "      <th>bond_len2</th>\n",
              "      <th>bond_len3</th>\n",
              "      <th>bond_len4</th>\n",
              "    </tr>\n",
              "  </thead>\n",
              "  <tbody>\n",
              "    <tr>\n",
              "      <th>0</th>\n",
              "      <td>dsgdb9nsd_000001</td>\n",
              "      <td>0</td>\n",
              "      <td>C</td>\n",
              "      <td>-0.012698</td>\n",
              "      <td>1.085804</td>\n",
              "      <td>0.008001</td>\n",
              "      <td>4</td>\n",
              "      <td>1.091953</td>\n",
              "      <td>1.091952</td>\n",
              "      <td>1.091946</td>\n",
              "      <td>1.091948</td>\n",
              "    </tr>\n",
              "    <tr>\n",
              "      <th>1</th>\n",
              "      <td>dsgdb9nsd_000001</td>\n",
              "      <td>1</td>\n",
              "      <td>H</td>\n",
              "      <td>0.002150</td>\n",
              "      <td>-0.006031</td>\n",
              "      <td>0.001976</td>\n",
              "      <td>1</td>\n",
              "      <td>1.091953</td>\n",
              "      <td>0.000000</td>\n",
              "      <td>0.000000</td>\n",
              "      <td>0.000000</td>\n",
              "    </tr>\n",
              "    <tr>\n",
              "      <th>2</th>\n",
              "      <td>dsgdb9nsd_000001</td>\n",
              "      <td>2</td>\n",
              "      <td>H</td>\n",
              "      <td>1.011731</td>\n",
              "      <td>1.463751</td>\n",
              "      <td>0.000277</td>\n",
              "      <td>1</td>\n",
              "      <td>1.091952</td>\n",
              "      <td>0.000000</td>\n",
              "      <td>0.000000</td>\n",
              "      <td>0.000000</td>\n",
              "    </tr>\n",
              "    <tr>\n",
              "      <th>3</th>\n",
              "      <td>dsgdb9nsd_000001</td>\n",
              "      <td>3</td>\n",
              "      <td>H</td>\n",
              "      <td>-0.540815</td>\n",
              "      <td>1.447527</td>\n",
              "      <td>-0.876644</td>\n",
              "      <td>1</td>\n",
              "      <td>1.091946</td>\n",
              "      <td>0.000000</td>\n",
              "      <td>0.000000</td>\n",
              "      <td>0.000000</td>\n",
              "    </tr>\n",
              "    <tr>\n",
              "      <th>4</th>\n",
              "      <td>dsgdb9nsd_000001</td>\n",
              "      <td>4</td>\n",
              "      <td>H</td>\n",
              "      <td>-0.523814</td>\n",
              "      <td>1.437933</td>\n",
              "      <td>0.906397</td>\n",
              "      <td>1</td>\n",
              "      <td>1.091948</td>\n",
              "      <td>0.000000</td>\n",
              "      <td>0.000000</td>\n",
              "      <td>0.000000</td>\n",
              "    </tr>\n",
              "  </tbody>\n",
              "</table>\n",
              "</div>"
            ]
          },
          "metadata": {
            "tags": []
          },
          "execution_count": 14
        }
      ]
    },
    {
      "cell_type": "code",
      "metadata": {
        "trusted": true,
        "id": "GrS-K_blKiBK",
        "colab_type": "code",
        "colab": {}
      },
      "source": [
        "# Map atom structures data into train and test sets\n",
        "\n",
        "def map_structure_data(df, atom_idx):\n",
        "    df = pd.merge(df, structures, how='left',\n",
        "                 left_on = ['molecule_name', f'atom_index_{atom_idx}'],\n",
        "                 right_on = ['molecule_name', 'atom_index'])\n",
        "    df = df.drop('atom_index', axis=1)\n",
        "    df = df.rename(columns={'atom': f'atom_{atom_idx}',\n",
        "                            'x':f'x_{atom_idx}',\n",
        "                            'y':f'y_{atom_idx}',\n",
        "                            'z':f'z_{atom_idx}',\n",
        "                           })\n",
        "    return df"
      ],
      "execution_count": 0,
      "outputs": []
    },
    {
      "cell_type": "code",
      "metadata": {
        "trusted": true,
        "id": "oHjWofGCKiBM",
        "colab_type": "code",
        "colab": {},
        "outputId": "b6c999bc-7d55-4de9-9e82-12ef23ffb11b"
      },
      "source": [
        "# Add structure data to train and test sets\n",
        "# Drop redundant bond features and rename some others for clarity\n",
        "\n",
        "def add_structures(df):\n",
        "    df = map_structure_data(df, 0)\n",
        "    df = map_structure_data(df, 1)\n",
        "    df = df.drop(['num_bonds_x', 'bond_len1_x', 'bond_len2_x', 'bond_len3_x', 'bond_len4_x'], axis=1)\n",
        "    df = df.rename(columns={'num_bonds_y':'num_bonds_atom_1',\n",
        "                            'bond_len1_y':'bond_len1',\n",
        "                            'bond_len2_y':'bond_len2',\n",
        "                            'bond_len3_y':'bond_len3',\n",
        "                            'bond_len4_y':'bond_len4'\n",
        "                           })\n",
        "    return df\n",
        "\n",
        "print('Merging \\'structures\\' with \\'train\\' and \\'test\\'')\n",
        "train = add_structures(train)\n",
        "test = add_structures(test)\n",
        "\n",
        "train.head()"
      ],
      "execution_count": 0,
      "outputs": [
        {
          "output_type": "stream",
          "text": [
            "Merging 'structures' with 'train' and 'test'\n"
          ],
          "name": "stdout"
        },
        {
          "output_type": "execute_result",
          "data": {
            "text/plain": [
              "      molecule_name  mol_index  atom_index_0  atom_index_1  type  \\\n",
              "0  dsgdb9nsd_000001          1             1             0  1JHC   \n",
              "1  dsgdb9nsd_000001          1             1             2  2JHH   \n",
              "2  dsgdb9nsd_000001          1             1             3  2JHH   \n",
              "3  dsgdb9nsd_000001          1             1             4  2JHH   \n",
              "4  dsgdb9nsd_000001          1             2             0  1JHC   \n",
              "\n",
              "   scalar_coupling_constant atom_0       x_0       y_0       z_0 atom_1  \\\n",
              "0                 84.807602      H  0.002150 -0.006031  0.001976      C   \n",
              "1                -11.257000      H  0.002150 -0.006031  0.001976      H   \n",
              "2                -11.254800      H  0.002150 -0.006031  0.001976      H   \n",
              "3                -11.254300      H  0.002150 -0.006031  0.001976      H   \n",
              "4                 84.807404      H  1.011731  1.463751  0.000277      C   \n",
              "\n",
              "        x_1       y_1       z_1  num_bonds_atom_1  bond_len1  bond_len2  \\\n",
              "0 -0.012698  1.085804  0.008001                 4   1.091953   1.091952   \n",
              "1  1.011731  1.463751  0.000277                 1   1.091952   0.000000   \n",
              "2 -0.540815  1.447527 -0.876644                 1   1.091946   0.000000   \n",
              "3 -0.523814  1.437933  0.906397                 1   1.091948   0.000000   \n",
              "4 -0.012698  1.085804  0.008001                 4   1.091953   1.091952   \n",
              "\n",
              "   bond_len3  bond_len4  \n",
              "0   1.091946   1.091948  \n",
              "1   0.000000   0.000000  \n",
              "2   0.000000   0.000000  \n",
              "3   0.000000   0.000000  \n",
              "4   1.091946   1.091948  "
            ],
            "text/html": [
              "<div>\n",
              "<style scoped>\n",
              "    .dataframe tbody tr th:only-of-type {\n",
              "        vertical-align: middle;\n",
              "    }\n",
              "\n",
              "    .dataframe tbody tr th {\n",
              "        vertical-align: top;\n",
              "    }\n",
              "\n",
              "    .dataframe thead th {\n",
              "        text-align: right;\n",
              "    }\n",
              "</style>\n",
              "<table border=\"1\" class=\"dataframe\">\n",
              "  <thead>\n",
              "    <tr style=\"text-align: right;\">\n",
              "      <th></th>\n",
              "      <th>molecule_name</th>\n",
              "      <th>mol_index</th>\n",
              "      <th>atom_index_0</th>\n",
              "      <th>atom_index_1</th>\n",
              "      <th>type</th>\n",
              "      <th>scalar_coupling_constant</th>\n",
              "      <th>atom_0</th>\n",
              "      <th>x_0</th>\n",
              "      <th>y_0</th>\n",
              "      <th>z_0</th>\n",
              "      <th>atom_1</th>\n",
              "      <th>x_1</th>\n",
              "      <th>y_1</th>\n",
              "      <th>z_1</th>\n",
              "      <th>num_bonds_atom_1</th>\n",
              "      <th>bond_len1</th>\n",
              "      <th>bond_len2</th>\n",
              "      <th>bond_len3</th>\n",
              "      <th>bond_len4</th>\n",
              "    </tr>\n",
              "  </thead>\n",
              "  <tbody>\n",
              "    <tr>\n",
              "      <th>0</th>\n",
              "      <td>dsgdb9nsd_000001</td>\n",
              "      <td>1</td>\n",
              "      <td>1</td>\n",
              "      <td>0</td>\n",
              "      <td>1JHC</td>\n",
              "      <td>84.807602</td>\n",
              "      <td>H</td>\n",
              "      <td>0.002150</td>\n",
              "      <td>-0.006031</td>\n",
              "      <td>0.001976</td>\n",
              "      <td>C</td>\n",
              "      <td>-0.012698</td>\n",
              "      <td>1.085804</td>\n",
              "      <td>0.008001</td>\n",
              "      <td>4</td>\n",
              "      <td>1.091953</td>\n",
              "      <td>1.091952</td>\n",
              "      <td>1.091946</td>\n",
              "      <td>1.091948</td>\n",
              "    </tr>\n",
              "    <tr>\n",
              "      <th>1</th>\n",
              "      <td>dsgdb9nsd_000001</td>\n",
              "      <td>1</td>\n",
              "      <td>1</td>\n",
              "      <td>2</td>\n",
              "      <td>2JHH</td>\n",
              "      <td>-11.257000</td>\n",
              "      <td>H</td>\n",
              "      <td>0.002150</td>\n",
              "      <td>-0.006031</td>\n",
              "      <td>0.001976</td>\n",
              "      <td>H</td>\n",
              "      <td>1.011731</td>\n",
              "      <td>1.463751</td>\n",
              "      <td>0.000277</td>\n",
              "      <td>1</td>\n",
              "      <td>1.091952</td>\n",
              "      <td>0.000000</td>\n",
              "      <td>0.000000</td>\n",
              "      <td>0.000000</td>\n",
              "    </tr>\n",
              "    <tr>\n",
              "      <th>2</th>\n",
              "      <td>dsgdb9nsd_000001</td>\n",
              "      <td>1</td>\n",
              "      <td>1</td>\n",
              "      <td>3</td>\n",
              "      <td>2JHH</td>\n",
              "      <td>-11.254800</td>\n",
              "      <td>H</td>\n",
              "      <td>0.002150</td>\n",
              "      <td>-0.006031</td>\n",
              "      <td>0.001976</td>\n",
              "      <td>H</td>\n",
              "      <td>-0.540815</td>\n",
              "      <td>1.447527</td>\n",
              "      <td>-0.876644</td>\n",
              "      <td>1</td>\n",
              "      <td>1.091946</td>\n",
              "      <td>0.000000</td>\n",
              "      <td>0.000000</td>\n",
              "      <td>0.000000</td>\n",
              "    </tr>\n",
              "    <tr>\n",
              "      <th>3</th>\n",
              "      <td>dsgdb9nsd_000001</td>\n",
              "      <td>1</td>\n",
              "      <td>1</td>\n",
              "      <td>4</td>\n",
              "      <td>2JHH</td>\n",
              "      <td>-11.254300</td>\n",
              "      <td>H</td>\n",
              "      <td>0.002150</td>\n",
              "      <td>-0.006031</td>\n",
              "      <td>0.001976</td>\n",
              "      <td>H</td>\n",
              "      <td>-0.523814</td>\n",
              "      <td>1.437933</td>\n",
              "      <td>0.906397</td>\n",
              "      <td>1</td>\n",
              "      <td>1.091948</td>\n",
              "      <td>0.000000</td>\n",
              "      <td>0.000000</td>\n",
              "      <td>0.000000</td>\n",
              "    </tr>\n",
              "    <tr>\n",
              "      <th>4</th>\n",
              "      <td>dsgdb9nsd_000001</td>\n",
              "      <td>1</td>\n",
              "      <td>2</td>\n",
              "      <td>0</td>\n",
              "      <td>1JHC</td>\n",
              "      <td>84.807404</td>\n",
              "      <td>H</td>\n",
              "      <td>1.011731</td>\n",
              "      <td>1.463751</td>\n",
              "      <td>0.000277</td>\n",
              "      <td>C</td>\n",
              "      <td>-0.012698</td>\n",
              "      <td>1.085804</td>\n",
              "      <td>0.008001</td>\n",
              "      <td>4</td>\n",
              "      <td>1.091953</td>\n",
              "      <td>1.091952</td>\n",
              "      <td>1.091946</td>\n",
              "      <td>1.091948</td>\n",
              "    </tr>\n",
              "  </tbody>\n",
              "</table>\n",
              "</div>"
            ]
          },
          "metadata": {
            "tags": []
          },
          "execution_count": 16
        }
      ]
    },
    {
      "cell_type": "code",
      "metadata": {
        "trusted": true,
        "id": "8e0gLAntKiBP",
        "colab_type": "code",
        "colab": {}
      },
      "source": [
        "# Calculate distances between coupled atoms and to center molecule\n",
        "\n",
        "def calc_distances(df):\n",
        "    df['dist_x'] = (df['x_0'] - df['x_1']) ** 2\n",
        "    df['dist_y'] = (df['y_0'] - df['y_1']) ** 2\n",
        "    df['dist_z'] = (df['z_0'] - df['z_1']) ** 2\n",
        "    \n",
        "    p_0 = df[['x_0', 'y_0', 'z_0']].values\n",
        "    p_1 = df[['x_1', 'y_1', 'z_1']].values\n",
        "    df['distance_vector'] = np.linalg.norm(p_0 - p_1, axis=1)\n",
        "    \n",
        "    df['cent_x'] = ((df['x_0'] - df['x_1'])) * np.float32(0.5)\n",
        "    df['cent_y'] = ((df['y_0'] - df['y_1'])) * np.float32(0.5)\n",
        "    df['cent_z'] = ((df['z_0'] - df['z_1'])) * np.float32(0.5)\n",
        "    df['distance_center'] = ((\n",
        "        (df['cent_x'] - df['x_1']) ** np.float32(2) + \n",
        "        (df['cent_y'] - df['y_1']) ** np.float32(2) +\n",
        "        (df['cent_z'] - df['z_1']) ** np.float32(2)\n",
        "    ) ** np.float32(0.5))\n"
      ],
      "execution_count": 0,
      "outputs": []
    },
    {
      "cell_type": "code",
      "metadata": {
        "trusted": true,
        "id": "5_0LNV9xKiBR",
        "colab_type": "code",
        "colab": {},
        "outputId": "546d552f-c8c9-427d-a99f-737c928518d9"
      },
      "source": [
        "# Add distance features to datasets\n",
        "calc_distances(train)\n",
        "calc_distances(test)\n",
        "\n",
        "# Drop original position data as only needed for calculating distances\n",
        "train.drop(['x_0', 'y_0', 'z_0', 'x_1', 'y_1', 'z_1'],axis=1, inplace=True)\n",
        "test.drop(['x_0', 'y_0', 'z_0', 'x_1', 'y_1', 'z_1'],axis=1, inplace=True)\n",
        "\n",
        "train.head()"
      ],
      "execution_count": 0,
      "outputs": [
        {
          "output_type": "execute_result",
          "data": {
            "text/plain": [
              "      molecule_name  mol_index  atom_index_0  atom_index_1  type  \\\n",
              "0  dsgdb9nsd_000001          1             1             0  1JHC   \n",
              "1  dsgdb9nsd_000001          1             1             2  2JHH   \n",
              "2  dsgdb9nsd_000001          1             1             3  2JHH   \n",
              "3  dsgdb9nsd_000001          1             1             4  2JHH   \n",
              "4  dsgdb9nsd_000001          1             2             0  1JHC   \n",
              "\n",
              "   scalar_coupling_constant atom_0 atom_1  num_bonds_atom_1  bond_len1  \\\n",
              "0                 84.807602      H      C                 4   1.091953   \n",
              "1                -11.257000      H      H                 1   1.091952   \n",
              "2                -11.254800      H      H                 1   1.091946   \n",
              "3                -11.254300      H      H                 1   1.091948   \n",
              "4                 84.807404      H      C                 4   1.091953   \n",
              "\n",
              "   bond_len2  bond_len3  bond_len4    dist_x    dist_y    dist_z  \\\n",
              "0   1.091952   1.091946   1.091948  0.000220  1.192104  0.000036   \n",
              "1   0.000000   0.000000   0.000000  1.019253  2.160260  0.000003   \n",
              "2   0.000000   0.000000   0.000000  0.294812  2.112830  0.771973   \n",
              "3   0.000000   0.000000   0.000000  0.276638  2.085032  0.817978   \n",
              "4   1.091952   1.091946   1.091948  1.049455  0.142844  0.000060   \n",
              "\n",
              "   distance_vector    cent_x    cent_y    cent_z  distance_center  \n",
              "0         1.091953  0.007424 -0.545918 -0.003012         1.631883  \n",
              "1         1.783120 -0.504790 -0.734891  0.000850         2.670930  \n",
              "2         1.783147  0.271483 -0.726779  0.439310         2.668176  \n",
              "3         1.783157  0.262982 -0.721982 -0.452211         2.670223  \n",
              "4         1.091952  0.512214  0.188974 -0.003862         1.039220  "
            ],
            "text/html": [
              "<div>\n",
              "<style scoped>\n",
              "    .dataframe tbody tr th:only-of-type {\n",
              "        vertical-align: middle;\n",
              "    }\n",
              "\n",
              "    .dataframe tbody tr th {\n",
              "        vertical-align: top;\n",
              "    }\n",
              "\n",
              "    .dataframe thead th {\n",
              "        text-align: right;\n",
              "    }\n",
              "</style>\n",
              "<table border=\"1\" class=\"dataframe\">\n",
              "  <thead>\n",
              "    <tr style=\"text-align: right;\">\n",
              "      <th></th>\n",
              "      <th>molecule_name</th>\n",
              "      <th>mol_index</th>\n",
              "      <th>atom_index_0</th>\n",
              "      <th>atom_index_1</th>\n",
              "      <th>type</th>\n",
              "      <th>scalar_coupling_constant</th>\n",
              "      <th>atom_0</th>\n",
              "      <th>atom_1</th>\n",
              "      <th>num_bonds_atom_1</th>\n",
              "      <th>bond_len1</th>\n",
              "      <th>bond_len2</th>\n",
              "      <th>bond_len3</th>\n",
              "      <th>bond_len4</th>\n",
              "      <th>dist_x</th>\n",
              "      <th>dist_y</th>\n",
              "      <th>dist_z</th>\n",
              "      <th>distance_vector</th>\n",
              "      <th>cent_x</th>\n",
              "      <th>cent_y</th>\n",
              "      <th>cent_z</th>\n",
              "      <th>distance_center</th>\n",
              "    </tr>\n",
              "  </thead>\n",
              "  <tbody>\n",
              "    <tr>\n",
              "      <th>0</th>\n",
              "      <td>dsgdb9nsd_000001</td>\n",
              "      <td>1</td>\n",
              "      <td>1</td>\n",
              "      <td>0</td>\n",
              "      <td>1JHC</td>\n",
              "      <td>84.807602</td>\n",
              "      <td>H</td>\n",
              "      <td>C</td>\n",
              "      <td>4</td>\n",
              "      <td>1.091953</td>\n",
              "      <td>1.091952</td>\n",
              "      <td>1.091946</td>\n",
              "      <td>1.091948</td>\n",
              "      <td>0.000220</td>\n",
              "      <td>1.192104</td>\n",
              "      <td>0.000036</td>\n",
              "      <td>1.091953</td>\n",
              "      <td>0.007424</td>\n",
              "      <td>-0.545918</td>\n",
              "      <td>-0.003012</td>\n",
              "      <td>1.631883</td>\n",
              "    </tr>\n",
              "    <tr>\n",
              "      <th>1</th>\n",
              "      <td>dsgdb9nsd_000001</td>\n",
              "      <td>1</td>\n",
              "      <td>1</td>\n",
              "      <td>2</td>\n",
              "      <td>2JHH</td>\n",
              "      <td>-11.257000</td>\n",
              "      <td>H</td>\n",
              "      <td>H</td>\n",
              "      <td>1</td>\n",
              "      <td>1.091952</td>\n",
              "      <td>0.000000</td>\n",
              "      <td>0.000000</td>\n",
              "      <td>0.000000</td>\n",
              "      <td>1.019253</td>\n",
              "      <td>2.160260</td>\n",
              "      <td>0.000003</td>\n",
              "      <td>1.783120</td>\n",
              "      <td>-0.504790</td>\n",
              "      <td>-0.734891</td>\n",
              "      <td>0.000850</td>\n",
              "      <td>2.670930</td>\n",
              "    </tr>\n",
              "    <tr>\n",
              "      <th>2</th>\n",
              "      <td>dsgdb9nsd_000001</td>\n",
              "      <td>1</td>\n",
              "      <td>1</td>\n",
              "      <td>3</td>\n",
              "      <td>2JHH</td>\n",
              "      <td>-11.254800</td>\n",
              "      <td>H</td>\n",
              "      <td>H</td>\n",
              "      <td>1</td>\n",
              "      <td>1.091946</td>\n",
              "      <td>0.000000</td>\n",
              "      <td>0.000000</td>\n",
              "      <td>0.000000</td>\n",
              "      <td>0.294812</td>\n",
              "      <td>2.112830</td>\n",
              "      <td>0.771973</td>\n",
              "      <td>1.783147</td>\n",
              "      <td>0.271483</td>\n",
              "      <td>-0.726779</td>\n",
              "      <td>0.439310</td>\n",
              "      <td>2.668176</td>\n",
              "    </tr>\n",
              "    <tr>\n",
              "      <th>3</th>\n",
              "      <td>dsgdb9nsd_000001</td>\n",
              "      <td>1</td>\n",
              "      <td>1</td>\n",
              "      <td>4</td>\n",
              "      <td>2JHH</td>\n",
              "      <td>-11.254300</td>\n",
              "      <td>H</td>\n",
              "      <td>H</td>\n",
              "      <td>1</td>\n",
              "      <td>1.091948</td>\n",
              "      <td>0.000000</td>\n",
              "      <td>0.000000</td>\n",
              "      <td>0.000000</td>\n",
              "      <td>0.276638</td>\n",
              "      <td>2.085032</td>\n",
              "      <td>0.817978</td>\n",
              "      <td>1.783157</td>\n",
              "      <td>0.262982</td>\n",
              "      <td>-0.721982</td>\n",
              "      <td>-0.452211</td>\n",
              "      <td>2.670223</td>\n",
              "    </tr>\n",
              "    <tr>\n",
              "      <th>4</th>\n",
              "      <td>dsgdb9nsd_000001</td>\n",
              "      <td>1</td>\n",
              "      <td>2</td>\n",
              "      <td>0</td>\n",
              "      <td>1JHC</td>\n",
              "      <td>84.807404</td>\n",
              "      <td>H</td>\n",
              "      <td>C</td>\n",
              "      <td>4</td>\n",
              "      <td>1.091953</td>\n",
              "      <td>1.091952</td>\n",
              "      <td>1.091946</td>\n",
              "      <td>1.091948</td>\n",
              "      <td>1.049455</td>\n",
              "      <td>0.142844</td>\n",
              "      <td>0.000060</td>\n",
              "      <td>1.091952</td>\n",
              "      <td>0.512214</td>\n",
              "      <td>0.188974</td>\n",
              "      <td>-0.003862</td>\n",
              "      <td>1.039220</td>\n",
              "    </tr>\n",
              "  </tbody>\n",
              "</table>\n",
              "</div>"
            ]
          },
          "metadata": {
            "tags": []
          },
          "execution_count": 18
        }
      ]
    },
    {
      "cell_type": "code",
      "metadata": {
        "trusted": true,
        "id": "q0ZNYJ7qKiBV",
        "colab_type": "code",
        "colab": {},
        "outputId": "9625fe17-6d21-472b-9e58-65aa9e4e6dec"
      },
      "source": [
        "# Load additional file with 2j cosine and 3j dihedral angles already computed for each coupling\n",
        "# Data file downloaded from https://www.kaggle.com/soerendip/angle-and-dihedral-for-the-champs-structures\n",
        "\n",
        "angles = pd.read_csv(\"../input/angle-and-dihedral-for-the-champs-structures/angles.csv\")\n",
        "angles.head()"
      ],
      "execution_count": 0,
      "outputs": [
        {
          "output_type": "execute_result",
          "data": {
            "text/plain": [
              "      molecule_name  atom_index_0  atom_index_1 shortest_path_atoms  \\\n",
              "0  dsgdb9nsd_000001             1             0                 NaN   \n",
              "1  dsgdb9nsd_000001             1             2                   C   \n",
              "2  dsgdb9nsd_000001             1             3                   C   \n",
              "3  dsgdb9nsd_000001             1             4                   C   \n",
              "4  dsgdb9nsd_000001             2             0                 NaN   \n",
              "\n",
              "   shortest_path_n_bonds  cosinus  dihedral  \n",
              "0                      1      NaN       NaN  \n",
              "1                      2 -0.33329       NaN  \n",
              "2                      2 -0.33333       NaN  \n",
              "3                      2 -0.33335       NaN  \n",
              "4                      1      NaN       NaN  "
            ],
            "text/html": [
              "<div>\n",
              "<style scoped>\n",
              "    .dataframe tbody tr th:only-of-type {\n",
              "        vertical-align: middle;\n",
              "    }\n",
              "\n",
              "    .dataframe tbody tr th {\n",
              "        vertical-align: top;\n",
              "    }\n",
              "\n",
              "    .dataframe thead th {\n",
              "        text-align: right;\n",
              "    }\n",
              "</style>\n",
              "<table border=\"1\" class=\"dataframe\">\n",
              "  <thead>\n",
              "    <tr style=\"text-align: right;\">\n",
              "      <th></th>\n",
              "      <th>molecule_name</th>\n",
              "      <th>atom_index_0</th>\n",
              "      <th>atom_index_1</th>\n",
              "      <th>shortest_path_atoms</th>\n",
              "      <th>shortest_path_n_bonds</th>\n",
              "      <th>cosinus</th>\n",
              "      <th>dihedral</th>\n",
              "    </tr>\n",
              "  </thead>\n",
              "  <tbody>\n",
              "    <tr>\n",
              "      <th>0</th>\n",
              "      <td>dsgdb9nsd_000001</td>\n",
              "      <td>1</td>\n",
              "      <td>0</td>\n",
              "      <td>NaN</td>\n",
              "      <td>1</td>\n",
              "      <td>NaN</td>\n",
              "      <td>NaN</td>\n",
              "    </tr>\n",
              "    <tr>\n",
              "      <th>1</th>\n",
              "      <td>dsgdb9nsd_000001</td>\n",
              "      <td>1</td>\n",
              "      <td>2</td>\n",
              "      <td>C</td>\n",
              "      <td>2</td>\n",
              "      <td>-0.33329</td>\n",
              "      <td>NaN</td>\n",
              "    </tr>\n",
              "    <tr>\n",
              "      <th>2</th>\n",
              "      <td>dsgdb9nsd_000001</td>\n",
              "      <td>1</td>\n",
              "      <td>3</td>\n",
              "      <td>C</td>\n",
              "      <td>2</td>\n",
              "      <td>-0.33333</td>\n",
              "      <td>NaN</td>\n",
              "    </tr>\n",
              "    <tr>\n",
              "      <th>3</th>\n",
              "      <td>dsgdb9nsd_000001</td>\n",
              "      <td>1</td>\n",
              "      <td>4</td>\n",
              "      <td>C</td>\n",
              "      <td>2</td>\n",
              "      <td>-0.33335</td>\n",
              "      <td>NaN</td>\n",
              "    </tr>\n",
              "    <tr>\n",
              "      <th>4</th>\n",
              "      <td>dsgdb9nsd_000001</td>\n",
              "      <td>2</td>\n",
              "      <td>0</td>\n",
              "      <td>NaN</td>\n",
              "      <td>1</td>\n",
              "      <td>NaN</td>\n",
              "      <td>NaN</td>\n",
              "    </tr>\n",
              "  </tbody>\n",
              "</table>\n",
              "</div>"
            ]
          },
          "metadata": {
            "tags": []
          },
          "execution_count": 19
        }
      ]
    },
    {
      "cell_type": "code",
      "metadata": {
        "trusted": true,
        "id": "FqgRXZKsKiBa",
        "colab_type": "code",
        "colab": {},
        "outputId": "bbe4b4fd-6364-4ef3-e930-6643754df23a"
      },
      "source": [
        "# Remove NaNs from angles df\n",
        "angles_unique_mols = angles['molecule_name'].nunique()\n",
        "print(f'Check \\'angles\\' contains same number of molecules as \\'train\\' and \\'test\\'  combined: {\"True\" if angles_unique_mols == train_unique_mols+test_unique_mols else \"False\"}')\n",
        "print(f'Check for missing values: {\"None\" if angles.isnull().sum().sum() == 0 else angles.isnull().sum()}')\n",
        "\n",
        "if angles.isnull().sum().sum() != 0: \n",
        "    print('...')\n",
        "    angles.fillna({'cosinus':0, 'dihedral':0, 'shortest_path_atoms':'H'}, inplace=True)\n",
        "    print('NaNs removed from shortest_path_atoms, cosinus and dihedral columns')\n",
        "    \n",
        "angles.head()"
      ],
      "execution_count": 0,
      "outputs": [
        {
          "output_type": "stream",
          "text": [
            "Check 'angles' contains same number of molecules as 'train' and 'test'  combined: True\n",
            "Check for missing values: molecule_name                  0\n",
            "atom_index_0                   0\n",
            "atom_index_1                   0\n",
            "shortest_path_atoms      1157583\n",
            "shortest_path_n_bonds          0\n",
            "cosinus                  4645080\n",
            "dihedral                 3676340\n",
            "dtype: int64\n",
            "...\n",
            "NaNs removed from shortest_path_atoms, cosinus and dihedral columns\n"
          ],
          "name": "stdout"
        },
        {
          "output_type": "execute_result",
          "data": {
            "text/plain": [
              "      molecule_name  atom_index_0  atom_index_1 shortest_path_atoms  \\\n",
              "0  dsgdb9nsd_000001             1             0                   H   \n",
              "1  dsgdb9nsd_000001             1             2                   C   \n",
              "2  dsgdb9nsd_000001             1             3                   C   \n",
              "3  dsgdb9nsd_000001             1             4                   C   \n",
              "4  dsgdb9nsd_000001             2             0                   H   \n",
              "\n",
              "   shortest_path_n_bonds  cosinus  dihedral  \n",
              "0                      1  0.00000       0.0  \n",
              "1                      2 -0.33329       0.0  \n",
              "2                      2 -0.33333       0.0  \n",
              "3                      2 -0.33335       0.0  \n",
              "4                      1  0.00000       0.0  "
            ],
            "text/html": [
              "<div>\n",
              "<style scoped>\n",
              "    .dataframe tbody tr th:only-of-type {\n",
              "        vertical-align: middle;\n",
              "    }\n",
              "\n",
              "    .dataframe tbody tr th {\n",
              "        vertical-align: top;\n",
              "    }\n",
              "\n",
              "    .dataframe thead th {\n",
              "        text-align: right;\n",
              "    }\n",
              "</style>\n",
              "<table border=\"1\" class=\"dataframe\">\n",
              "  <thead>\n",
              "    <tr style=\"text-align: right;\">\n",
              "      <th></th>\n",
              "      <th>molecule_name</th>\n",
              "      <th>atom_index_0</th>\n",
              "      <th>atom_index_1</th>\n",
              "      <th>shortest_path_atoms</th>\n",
              "      <th>shortest_path_n_bonds</th>\n",
              "      <th>cosinus</th>\n",
              "      <th>dihedral</th>\n",
              "    </tr>\n",
              "  </thead>\n",
              "  <tbody>\n",
              "    <tr>\n",
              "      <th>0</th>\n",
              "      <td>dsgdb9nsd_000001</td>\n",
              "      <td>1</td>\n",
              "      <td>0</td>\n",
              "      <td>H</td>\n",
              "      <td>1</td>\n",
              "      <td>0.00000</td>\n",
              "      <td>0.0</td>\n",
              "    </tr>\n",
              "    <tr>\n",
              "      <th>1</th>\n",
              "      <td>dsgdb9nsd_000001</td>\n",
              "      <td>1</td>\n",
              "      <td>2</td>\n",
              "      <td>C</td>\n",
              "      <td>2</td>\n",
              "      <td>-0.33329</td>\n",
              "      <td>0.0</td>\n",
              "    </tr>\n",
              "    <tr>\n",
              "      <th>2</th>\n",
              "      <td>dsgdb9nsd_000001</td>\n",
              "      <td>1</td>\n",
              "      <td>3</td>\n",
              "      <td>C</td>\n",
              "      <td>2</td>\n",
              "      <td>-0.33333</td>\n",
              "      <td>0.0</td>\n",
              "    </tr>\n",
              "    <tr>\n",
              "      <th>3</th>\n",
              "      <td>dsgdb9nsd_000001</td>\n",
              "      <td>1</td>\n",
              "      <td>4</td>\n",
              "      <td>C</td>\n",
              "      <td>2</td>\n",
              "      <td>-0.33335</td>\n",
              "      <td>0.0</td>\n",
              "    </tr>\n",
              "    <tr>\n",
              "      <th>4</th>\n",
              "      <td>dsgdb9nsd_000001</td>\n",
              "      <td>2</td>\n",
              "      <td>0</td>\n",
              "      <td>H</td>\n",
              "      <td>1</td>\n",
              "      <td>0.00000</td>\n",
              "      <td>0.0</td>\n",
              "    </tr>\n",
              "  </tbody>\n",
              "</table>\n",
              "</div>"
            ]
          },
          "metadata": {
            "tags": []
          },
          "execution_count": 20
        }
      ]
    },
    {
      "cell_type": "code",
      "metadata": {
        "trusted": true,
        "id": "Kn4tXkySKiBd",
        "colab_type": "code",
        "colab": {},
        "outputId": "15b797e1-5ae8-4afa-e104-9222669b488f"
      },
      "source": [
        "# Merge angles df with train and test dfs\n",
        "\n",
        "def map_angle_info(df):\n",
        "    df = pd.merge(df, angles, how='left',\n",
        "                 left_on = ['molecule_name', 'atom_index_0', 'atom_index_1'],\n",
        "                 right_on = ['molecule_name', 'atom_index_0', 'atom_index_1'])\n",
        "    return df\n",
        "                            \n",
        "train = map_angle_info(train)                         \n",
        "test = map_angle_info(test)\n",
        "\n",
        "# Remove the 148 higher order couplings from the train and test sets as invalid data\n",
        "train = train.loc[train.shortest_path_n_bonds<4,:]\n",
        "# test = test.loc[test.shortest_path_n_bonds<4, :] If we remove these from the test set then we must aslo remove them from the submission.csv file. \n",
        "\n",
        "train.head(5)"
      ],
      "execution_count": 0,
      "outputs": [
        {
          "output_type": "execute_result",
          "data": {
            "text/plain": [
              "      molecule_name  mol_index  atom_index_0  atom_index_1  type  \\\n",
              "0  dsgdb9nsd_000001          1             1             0  1JHC   \n",
              "1  dsgdb9nsd_000001          1             1             2  2JHH   \n",
              "2  dsgdb9nsd_000001          1             1             3  2JHH   \n",
              "3  dsgdb9nsd_000001          1             1             4  2JHH   \n",
              "4  dsgdb9nsd_000001          1             2             0  1JHC   \n",
              "\n",
              "   scalar_coupling_constant atom_0 atom_1  num_bonds_atom_1  bond_len1  \\\n",
              "0                 84.807602      H      C                 4   1.091953   \n",
              "1                -11.257000      H      H                 1   1.091952   \n",
              "2                -11.254800      H      H                 1   1.091946   \n",
              "3                -11.254300      H      H                 1   1.091948   \n",
              "4                 84.807404      H      C                 4   1.091953   \n",
              "\n",
              "   bond_len2  bond_len3  bond_len4    dist_x    dist_y    dist_z  \\\n",
              "0   1.091952   1.091946   1.091948  0.000220  1.192104  0.000036   \n",
              "1   0.000000   0.000000   0.000000  1.019253  2.160260  0.000003   \n",
              "2   0.000000   0.000000   0.000000  0.294812  2.112830  0.771973   \n",
              "3   0.000000   0.000000   0.000000  0.276638  2.085032  0.817978   \n",
              "4   1.091952   1.091946   1.091948  1.049455  0.142844  0.000060   \n",
              "\n",
              "   distance_vector    cent_x    cent_y    cent_z  distance_center  \\\n",
              "0         1.091953  0.007424 -0.545918 -0.003012         1.631883   \n",
              "1         1.783120 -0.504790 -0.734891  0.000850         2.670930   \n",
              "2         1.783147  0.271483 -0.726779  0.439310         2.668176   \n",
              "3         1.783157  0.262982 -0.721982 -0.452211         2.670223   \n",
              "4         1.091952  0.512214  0.188974 -0.003862         1.039220   \n",
              "\n",
              "  shortest_path_atoms  shortest_path_n_bonds  cosinus  dihedral  \n",
              "0                   H                      1  0.00000       0.0  \n",
              "1                   C                      2 -0.33329       0.0  \n",
              "2                   C                      2 -0.33333       0.0  \n",
              "3                   C                      2 -0.33335       0.0  \n",
              "4                   H                      1  0.00000       0.0  "
            ],
            "text/html": [
              "<div>\n",
              "<style scoped>\n",
              "    .dataframe tbody tr th:only-of-type {\n",
              "        vertical-align: middle;\n",
              "    }\n",
              "\n",
              "    .dataframe tbody tr th {\n",
              "        vertical-align: top;\n",
              "    }\n",
              "\n",
              "    .dataframe thead th {\n",
              "        text-align: right;\n",
              "    }\n",
              "</style>\n",
              "<table border=\"1\" class=\"dataframe\">\n",
              "  <thead>\n",
              "    <tr style=\"text-align: right;\">\n",
              "      <th></th>\n",
              "      <th>molecule_name</th>\n",
              "      <th>mol_index</th>\n",
              "      <th>atom_index_0</th>\n",
              "      <th>atom_index_1</th>\n",
              "      <th>type</th>\n",
              "      <th>scalar_coupling_constant</th>\n",
              "      <th>atom_0</th>\n",
              "      <th>atom_1</th>\n",
              "      <th>num_bonds_atom_1</th>\n",
              "      <th>bond_len1</th>\n",
              "      <th>bond_len2</th>\n",
              "      <th>bond_len3</th>\n",
              "      <th>bond_len4</th>\n",
              "      <th>dist_x</th>\n",
              "      <th>dist_y</th>\n",
              "      <th>dist_z</th>\n",
              "      <th>distance_vector</th>\n",
              "      <th>cent_x</th>\n",
              "      <th>cent_y</th>\n",
              "      <th>cent_z</th>\n",
              "      <th>distance_center</th>\n",
              "      <th>shortest_path_atoms</th>\n",
              "      <th>shortest_path_n_bonds</th>\n",
              "      <th>cosinus</th>\n",
              "      <th>dihedral</th>\n",
              "    </tr>\n",
              "  </thead>\n",
              "  <tbody>\n",
              "    <tr>\n",
              "      <th>0</th>\n",
              "      <td>dsgdb9nsd_000001</td>\n",
              "      <td>1</td>\n",
              "      <td>1</td>\n",
              "      <td>0</td>\n",
              "      <td>1JHC</td>\n",
              "      <td>84.807602</td>\n",
              "      <td>H</td>\n",
              "      <td>C</td>\n",
              "      <td>4</td>\n",
              "      <td>1.091953</td>\n",
              "      <td>1.091952</td>\n",
              "      <td>1.091946</td>\n",
              "      <td>1.091948</td>\n",
              "      <td>0.000220</td>\n",
              "      <td>1.192104</td>\n",
              "      <td>0.000036</td>\n",
              "      <td>1.091953</td>\n",
              "      <td>0.007424</td>\n",
              "      <td>-0.545918</td>\n",
              "      <td>-0.003012</td>\n",
              "      <td>1.631883</td>\n",
              "      <td>H</td>\n",
              "      <td>1</td>\n",
              "      <td>0.00000</td>\n",
              "      <td>0.0</td>\n",
              "    </tr>\n",
              "    <tr>\n",
              "      <th>1</th>\n",
              "      <td>dsgdb9nsd_000001</td>\n",
              "      <td>1</td>\n",
              "      <td>1</td>\n",
              "      <td>2</td>\n",
              "      <td>2JHH</td>\n",
              "      <td>-11.257000</td>\n",
              "      <td>H</td>\n",
              "      <td>H</td>\n",
              "      <td>1</td>\n",
              "      <td>1.091952</td>\n",
              "      <td>0.000000</td>\n",
              "      <td>0.000000</td>\n",
              "      <td>0.000000</td>\n",
              "      <td>1.019253</td>\n",
              "      <td>2.160260</td>\n",
              "      <td>0.000003</td>\n",
              "      <td>1.783120</td>\n",
              "      <td>-0.504790</td>\n",
              "      <td>-0.734891</td>\n",
              "      <td>0.000850</td>\n",
              "      <td>2.670930</td>\n",
              "      <td>C</td>\n",
              "      <td>2</td>\n",
              "      <td>-0.33329</td>\n",
              "      <td>0.0</td>\n",
              "    </tr>\n",
              "    <tr>\n",
              "      <th>2</th>\n",
              "      <td>dsgdb9nsd_000001</td>\n",
              "      <td>1</td>\n",
              "      <td>1</td>\n",
              "      <td>3</td>\n",
              "      <td>2JHH</td>\n",
              "      <td>-11.254800</td>\n",
              "      <td>H</td>\n",
              "      <td>H</td>\n",
              "      <td>1</td>\n",
              "      <td>1.091946</td>\n",
              "      <td>0.000000</td>\n",
              "      <td>0.000000</td>\n",
              "      <td>0.000000</td>\n",
              "      <td>0.294812</td>\n",
              "      <td>2.112830</td>\n",
              "      <td>0.771973</td>\n",
              "      <td>1.783147</td>\n",
              "      <td>0.271483</td>\n",
              "      <td>-0.726779</td>\n",
              "      <td>0.439310</td>\n",
              "      <td>2.668176</td>\n",
              "      <td>C</td>\n",
              "      <td>2</td>\n",
              "      <td>-0.33333</td>\n",
              "      <td>0.0</td>\n",
              "    </tr>\n",
              "    <tr>\n",
              "      <th>3</th>\n",
              "      <td>dsgdb9nsd_000001</td>\n",
              "      <td>1</td>\n",
              "      <td>1</td>\n",
              "      <td>4</td>\n",
              "      <td>2JHH</td>\n",
              "      <td>-11.254300</td>\n",
              "      <td>H</td>\n",
              "      <td>H</td>\n",
              "      <td>1</td>\n",
              "      <td>1.091948</td>\n",
              "      <td>0.000000</td>\n",
              "      <td>0.000000</td>\n",
              "      <td>0.000000</td>\n",
              "      <td>0.276638</td>\n",
              "      <td>2.085032</td>\n",
              "      <td>0.817978</td>\n",
              "      <td>1.783157</td>\n",
              "      <td>0.262982</td>\n",
              "      <td>-0.721982</td>\n",
              "      <td>-0.452211</td>\n",
              "      <td>2.670223</td>\n",
              "      <td>C</td>\n",
              "      <td>2</td>\n",
              "      <td>-0.33335</td>\n",
              "      <td>0.0</td>\n",
              "    </tr>\n",
              "    <tr>\n",
              "      <th>4</th>\n",
              "      <td>dsgdb9nsd_000001</td>\n",
              "      <td>1</td>\n",
              "      <td>2</td>\n",
              "      <td>0</td>\n",
              "      <td>1JHC</td>\n",
              "      <td>84.807404</td>\n",
              "      <td>H</td>\n",
              "      <td>C</td>\n",
              "      <td>4</td>\n",
              "      <td>1.091953</td>\n",
              "      <td>1.091952</td>\n",
              "      <td>1.091946</td>\n",
              "      <td>1.091948</td>\n",
              "      <td>1.049455</td>\n",
              "      <td>0.142844</td>\n",
              "      <td>0.000060</td>\n",
              "      <td>1.091952</td>\n",
              "      <td>0.512214</td>\n",
              "      <td>0.188974</td>\n",
              "      <td>-0.003862</td>\n",
              "      <td>1.039220</td>\n",
              "      <td>H</td>\n",
              "      <td>1</td>\n",
              "      <td>0.00000</td>\n",
              "      <td>0.0</td>\n",
              "    </tr>\n",
              "  </tbody>\n",
              "</table>\n",
              "</div>"
            ]
          },
          "metadata": {
            "tags": []
          },
          "execution_count": 21
        }
      ]
    },
    {
      "cell_type": "markdown",
      "metadata": {
        "id": "igCW3l-CKiBg",
        "colab_type": "text"
      },
      "source": [
        "## Preprocessing\n",
        "\n",
        "At this stage the train dataset has a number of catagorical features which need encoding:\n",
        "* 'Atom_0'\n",
        "* 'Atom_1'\n",
        "* 'type'\n",
        "* 'shortest_path_atoms'\n",
        "\n",
        "As a general rule, tree based algorithms, which include gradient boosting models, perform poorly on one hot encoded catagorical data. For these models we need to nominal encode the data using scikit learns LabelEncoder module."
      ]
    },
    {
      "cell_type": "code",
      "metadata": {
        "trusted": true,
        "id": "76NNYw5KKiBg",
        "colab_type": "code",
        "colab": {},
        "outputId": "f4008187-c304-4668-d018-95d308a169f1"
      },
      "source": [
        "# Label encode\n",
        "\n",
        "for f in ['atom_0', 'atom_1', 'shortest_path_atoms', 'type']:\n",
        "    encoder = LabelEncoder() \n",
        "    encoder.fit(list(train[f].values) + list(test[f].values))\n",
        "    train[f] = encoder.transform(list(train[f].values))\n",
        "    test[f] = encoder.transform(list(test[f].values))\n",
        "\n",
        "# create a encoder mapping dict for later unencoding of the 'type' column\n",
        "encoder_mapping = dict(zip(encoder.classes_, encoder.transform(encoder.classes_)))\n",
        "print(encoder_mapping)"
      ],
      "execution_count": 0,
      "outputs": [
        {
          "output_type": "stream",
          "text": [
            "{'1JHC': 0, '1JHN': 1, '2JHC': 2, '2JHH': 3, '2JHN': 4, '3JHC': 5, '3JHH': 6, '3JHN': 7}\n"
          ],
          "name": "stdout"
        }
      ]
    },
    {
      "cell_type": "code",
      "metadata": {
        "trusted": true,
        "id": "ZbvnGtchKiBi",
        "colab_type": "code",
        "colab": {}
      },
      "source": [
        "# Drop redundant features\n",
        "train.drop(['atom_index_0', 'atom_index_1'],axis=1, inplace=True)\n",
        "test.drop(['atom_index_0', 'atom_index_1'],axis=1, inplace=True)"
      ],
      "execution_count": 0,
      "outputs": []
    },
    {
      "cell_type": "code",
      "metadata": {
        "trusted": true,
        "id": "IWuzRFb9KiBl",
        "colab_type": "code",
        "colab": {},
        "outputId": "5916e607-b25b-4f8b-c0da-097e9beaf0d4"
      },
      "source": [
        "# Convert remaining Nans to zeros (better for GBM's)\n",
        "def fill_zeros(df):\n",
        "    df = df.fillna(0)\n",
        "\n",
        "fill_zeros(train)\n",
        "fill_zeros(test)\n",
        "print(\" NaN's replaced with 0s for train & test files\")"
      ],
      "execution_count": 0,
      "outputs": [
        {
          "output_type": "stream",
          "text": [
            " NaN's replaced with 0s for train & test files\n"
          ],
          "name": "stdout"
        }
      ]
    },
    {
      "cell_type": "code",
      "metadata": {
        "trusted": true,
        "id": "a9wC5mUpKiBo",
        "colab_type": "code",
        "colab": {}
      },
      "source": [
        "# Remove any columns with only a single unique value\n",
        "def remove_single_val_cols(df):\n",
        "    for col in df.columns:\n",
        "        if len(df[col].unique()) == 1:\n",
        "            df.drop(col,inplace=True,axis=1)\n",
        "            \n",
        "remove_single_val_cols(train)\n",
        "remove_single_val_cols(test)"
      ],
      "execution_count": 0,
      "outputs": []
    },
    {
      "cell_type": "code",
      "metadata": {
        "trusted": true,
        "id": "vjYSGqcLKiBq",
        "colab_type": "code",
        "colab": {},
        "outputId": "d27eae9d-5b82-46b9-be74-ccdbf422d7e6"
      },
      "source": [
        "# Minimise dataframe sizes\n",
        "train = reduce_mem_usage(train)\n",
        "test = reduce_mem_usage(test)"
      ],
      "execution_count": 0,
      "outputs": [
        {
          "output_type": "stream",
          "text": [
            "Mem. usage decreased to 324.29 Mb (49.3% reduction)\n",
            "Mem. usage decreased to 164.87 Mb (50.7% reduction)\n"
          ],
          "name": "stdout"
        }
      ]
    },
    {
      "cell_type": "markdown",
      "metadata": {
        "id": "o3YiKiBHKiBs",
        "colab_type": "text"
      },
      "source": [
        "## Review train and test files"
      ]
    },
    {
      "cell_type": "code",
      "metadata": {
        "trusted": true,
        "id": "nVRVLtShKiBt",
        "colab_type": "code",
        "colab": {},
        "outputId": "92830388-f86c-4008-863c-3c2024e05cbe"
      },
      "source": [
        "print(f'Train : {train.shape}')\n",
        "display(train.head())\n",
        "print(f'Test: {train.shape}')\n",
        "display(test.head())"
      ],
      "execution_count": 0,
      "outputs": [
        {
          "output_type": "stream",
          "text": [
            "Train : (4658051, 22)\n"
          ],
          "name": "stdout"
        },
        {
          "output_type": "display_data",
          "data": {
            "text/plain": [
              "      molecule_name  mol_index  type  scalar_coupling_constant  atom_1  \\\n",
              "0  dsgdb9nsd_000001          1     0                 84.807602       0   \n",
              "1  dsgdb9nsd_000001          1     3                -11.257000       1   \n",
              "2  dsgdb9nsd_000001          1     3                -11.254800       1   \n",
              "3  dsgdb9nsd_000001          1     3                -11.254300       1   \n",
              "4  dsgdb9nsd_000001          1     0                 84.807404       0   \n",
              "\n",
              "   num_bonds_atom_1  bond_len1  bond_len2  bond_len3  bond_len4    dist_x  \\\n",
              "0                 4   1.091797   1.091797   1.091797   1.091797  0.000220   \n",
              "1                 1   1.091797   0.000000   0.000000   0.000000  1.019253   \n",
              "2                 1   1.091797   0.000000   0.000000   0.000000  0.294812   \n",
              "3                 1   1.091797   0.000000   0.000000   0.000000  0.276638   \n",
              "4                 4   1.091797   1.091797   1.091797   1.091797  1.049455   \n",
              "\n",
              "     dist_y    dist_z  distance_vector    cent_x    cent_y    cent_z  \\\n",
              "0  1.192104  0.000036         1.091953  0.007424 -0.545918 -0.003012   \n",
              "1  2.160260  0.000003         1.783120 -0.504790 -0.734891  0.000850   \n",
              "2  2.112830  0.771973         1.783147  0.271483 -0.726779  0.439310   \n",
              "3  2.085032  0.817978         1.783157  0.262982 -0.721982 -0.452211   \n",
              "4  0.142844  0.000060         1.091952  0.512214  0.188974 -0.003862   \n",
              "\n",
              "   distance_center  shortest_path_atoms  shortest_path_n_bonds   cosinus  \\\n",
              "0         1.631883                   14                      1  0.000000   \n",
              "1         2.670930                    0                      2 -0.333252   \n",
              "2         2.668176                    0                      2 -0.333252   \n",
              "3         2.670223                    0                      2 -0.333252   \n",
              "4         1.039220                   14                      1  0.000000   \n",
              "\n",
              "   dihedral  \n",
              "0       0.0  \n",
              "1       0.0  \n",
              "2       0.0  \n",
              "3       0.0  \n",
              "4       0.0  "
            ],
            "text/html": [
              "<div>\n",
              "<style scoped>\n",
              "    .dataframe tbody tr th:only-of-type {\n",
              "        vertical-align: middle;\n",
              "    }\n",
              "\n",
              "    .dataframe tbody tr th {\n",
              "        vertical-align: top;\n",
              "    }\n",
              "\n",
              "    .dataframe thead th {\n",
              "        text-align: right;\n",
              "    }\n",
              "</style>\n",
              "<table border=\"1\" class=\"dataframe\">\n",
              "  <thead>\n",
              "    <tr style=\"text-align: right;\">\n",
              "      <th></th>\n",
              "      <th>molecule_name</th>\n",
              "      <th>mol_index</th>\n",
              "      <th>type</th>\n",
              "      <th>scalar_coupling_constant</th>\n",
              "      <th>atom_1</th>\n",
              "      <th>num_bonds_atom_1</th>\n",
              "      <th>bond_len1</th>\n",
              "      <th>bond_len2</th>\n",
              "      <th>bond_len3</th>\n",
              "      <th>bond_len4</th>\n",
              "      <th>dist_x</th>\n",
              "      <th>dist_y</th>\n",
              "      <th>dist_z</th>\n",
              "      <th>distance_vector</th>\n",
              "      <th>cent_x</th>\n",
              "      <th>cent_y</th>\n",
              "      <th>cent_z</th>\n",
              "      <th>distance_center</th>\n",
              "      <th>shortest_path_atoms</th>\n",
              "      <th>shortest_path_n_bonds</th>\n",
              "      <th>cosinus</th>\n",
              "      <th>dihedral</th>\n",
              "    </tr>\n",
              "  </thead>\n",
              "  <tbody>\n",
              "    <tr>\n",
              "      <th>0</th>\n",
              "      <td>dsgdb9nsd_000001</td>\n",
              "      <td>1</td>\n",
              "      <td>0</td>\n",
              "      <td>84.807602</td>\n",
              "      <td>0</td>\n",
              "      <td>4</td>\n",
              "      <td>1.091797</td>\n",
              "      <td>1.091797</td>\n",
              "      <td>1.091797</td>\n",
              "      <td>1.091797</td>\n",
              "      <td>0.000220</td>\n",
              "      <td>1.192104</td>\n",
              "      <td>0.000036</td>\n",
              "      <td>1.091953</td>\n",
              "      <td>0.007424</td>\n",
              "      <td>-0.545918</td>\n",
              "      <td>-0.003012</td>\n",
              "      <td>1.631883</td>\n",
              "      <td>14</td>\n",
              "      <td>1</td>\n",
              "      <td>0.000000</td>\n",
              "      <td>0.0</td>\n",
              "    </tr>\n",
              "    <tr>\n",
              "      <th>1</th>\n",
              "      <td>dsgdb9nsd_000001</td>\n",
              "      <td>1</td>\n",
              "      <td>3</td>\n",
              "      <td>-11.257000</td>\n",
              "      <td>1</td>\n",
              "      <td>1</td>\n",
              "      <td>1.091797</td>\n",
              "      <td>0.000000</td>\n",
              "      <td>0.000000</td>\n",
              "      <td>0.000000</td>\n",
              "      <td>1.019253</td>\n",
              "      <td>2.160260</td>\n",
              "      <td>0.000003</td>\n",
              "      <td>1.783120</td>\n",
              "      <td>-0.504790</td>\n",
              "      <td>-0.734891</td>\n",
              "      <td>0.000850</td>\n",
              "      <td>2.670930</td>\n",
              "      <td>0</td>\n",
              "      <td>2</td>\n",
              "      <td>-0.333252</td>\n",
              "      <td>0.0</td>\n",
              "    </tr>\n",
              "    <tr>\n",
              "      <th>2</th>\n",
              "      <td>dsgdb9nsd_000001</td>\n",
              "      <td>1</td>\n",
              "      <td>3</td>\n",
              "      <td>-11.254800</td>\n",
              "      <td>1</td>\n",
              "      <td>1</td>\n",
              "      <td>1.091797</td>\n",
              "      <td>0.000000</td>\n",
              "      <td>0.000000</td>\n",
              "      <td>0.000000</td>\n",
              "      <td>0.294812</td>\n",
              "      <td>2.112830</td>\n",
              "      <td>0.771973</td>\n",
              "      <td>1.783147</td>\n",
              "      <td>0.271483</td>\n",
              "      <td>-0.726779</td>\n",
              "      <td>0.439310</td>\n",
              "      <td>2.668176</td>\n",
              "      <td>0</td>\n",
              "      <td>2</td>\n",
              "      <td>-0.333252</td>\n",
              "      <td>0.0</td>\n",
              "    </tr>\n",
              "    <tr>\n",
              "      <th>3</th>\n",
              "      <td>dsgdb9nsd_000001</td>\n",
              "      <td>1</td>\n",
              "      <td>3</td>\n",
              "      <td>-11.254300</td>\n",
              "      <td>1</td>\n",
              "      <td>1</td>\n",
              "      <td>1.091797</td>\n",
              "      <td>0.000000</td>\n",
              "      <td>0.000000</td>\n",
              "      <td>0.000000</td>\n",
              "      <td>0.276638</td>\n",
              "      <td>2.085032</td>\n",
              "      <td>0.817978</td>\n",
              "      <td>1.783157</td>\n",
              "      <td>0.262982</td>\n",
              "      <td>-0.721982</td>\n",
              "      <td>-0.452211</td>\n",
              "      <td>2.670223</td>\n",
              "      <td>0</td>\n",
              "      <td>2</td>\n",
              "      <td>-0.333252</td>\n",
              "      <td>0.0</td>\n",
              "    </tr>\n",
              "    <tr>\n",
              "      <th>4</th>\n",
              "      <td>dsgdb9nsd_000001</td>\n",
              "      <td>1</td>\n",
              "      <td>0</td>\n",
              "      <td>84.807404</td>\n",
              "      <td>0</td>\n",
              "      <td>4</td>\n",
              "      <td>1.091797</td>\n",
              "      <td>1.091797</td>\n",
              "      <td>1.091797</td>\n",
              "      <td>1.091797</td>\n",
              "      <td>1.049455</td>\n",
              "      <td>0.142844</td>\n",
              "      <td>0.000060</td>\n",
              "      <td>1.091952</td>\n",
              "      <td>0.512214</td>\n",
              "      <td>0.188974</td>\n",
              "      <td>-0.003862</td>\n",
              "      <td>1.039220</td>\n",
              "      <td>14</td>\n",
              "      <td>1</td>\n",
              "      <td>0.000000</td>\n",
              "      <td>0.0</td>\n",
              "    </tr>\n",
              "  </tbody>\n",
              "</table>\n",
              "</div>"
            ]
          },
          "metadata": {
            "tags": []
          }
        },
        {
          "output_type": "stream",
          "text": [
            "Test: (4658051, 22)\n"
          ],
          "name": "stdout"
        },
        {
          "output_type": "display_data",
          "data": {
            "text/plain": [
              "      molecule_name  mol_index  type  atom_1  num_bonds_atom_1  bond_len1  \\\n",
              "0  dsgdb9nsd_000004          4     2       0                 2   1.199219   \n",
              "1  dsgdb9nsd_000004          4     0       0                 2   1.199219   \n",
              "2  dsgdb9nsd_000004          4     6       1                 1   1.062500   \n",
              "3  dsgdb9nsd_000004          4     0       0                 2   1.199219   \n",
              "4  dsgdb9nsd_000004          4     2       0                 2   1.199219   \n",
              "\n",
              "   bond_len2  bond_len3  bond_len4     dist_x  dist_y  dist_z  \\\n",
              "0     1.0625        0.0        0.0   5.112926     0.0     0.0   \n",
              "1     1.0625        0.0        0.0   1.128054     0.0     0.0   \n",
              "2     0.0000        0.0        0.0  11.044171     0.0     0.0   \n",
              "3     1.0625        0.0        0.0   1.128054     0.0     0.0   \n",
              "4     1.0625        0.0        0.0   5.112926     0.0     0.0   \n",
              "\n",
              "   distance_vector    cent_x  cent_y  cent_z  distance_center  \\\n",
              "0         2.261178 -1.130589     0.0     0.0         1.998335   \n",
              "1         1.062099 -0.531050     0.0     0.0         1.002343   \n",
              "2         3.323277 -1.661639     0.0     0.0         3.470471   \n",
              "3         1.062099  0.531050     0.0     0.0         1.002343   \n",
              "4         2.261178  1.130589     0.0     0.0         1.998335   \n",
              "\n",
              "   shortest_path_atoms  shortest_path_n_bonds  cosinus  dihedral  \n",
              "0                    0                      2     -1.0       0.0  \n",
              "1                   14                      1      0.0       0.0  \n",
              "2                    1                      3      0.0       0.0  \n",
              "3                   14                      1      0.0       0.0  \n",
              "4                    0                      2     -1.0       0.0  "
            ],
            "text/html": [
              "<div>\n",
              "<style scoped>\n",
              "    .dataframe tbody tr th:only-of-type {\n",
              "        vertical-align: middle;\n",
              "    }\n",
              "\n",
              "    .dataframe tbody tr th {\n",
              "        vertical-align: top;\n",
              "    }\n",
              "\n",
              "    .dataframe thead th {\n",
              "        text-align: right;\n",
              "    }\n",
              "</style>\n",
              "<table border=\"1\" class=\"dataframe\">\n",
              "  <thead>\n",
              "    <tr style=\"text-align: right;\">\n",
              "      <th></th>\n",
              "      <th>molecule_name</th>\n",
              "      <th>mol_index</th>\n",
              "      <th>type</th>\n",
              "      <th>atom_1</th>\n",
              "      <th>num_bonds_atom_1</th>\n",
              "      <th>bond_len1</th>\n",
              "      <th>bond_len2</th>\n",
              "      <th>bond_len3</th>\n",
              "      <th>bond_len4</th>\n",
              "      <th>dist_x</th>\n",
              "      <th>dist_y</th>\n",
              "      <th>dist_z</th>\n",
              "      <th>distance_vector</th>\n",
              "      <th>cent_x</th>\n",
              "      <th>cent_y</th>\n",
              "      <th>cent_z</th>\n",
              "      <th>distance_center</th>\n",
              "      <th>shortest_path_atoms</th>\n",
              "      <th>shortest_path_n_bonds</th>\n",
              "      <th>cosinus</th>\n",
              "      <th>dihedral</th>\n",
              "    </tr>\n",
              "  </thead>\n",
              "  <tbody>\n",
              "    <tr>\n",
              "      <th>0</th>\n",
              "      <td>dsgdb9nsd_000004</td>\n",
              "      <td>4</td>\n",
              "      <td>2</td>\n",
              "      <td>0</td>\n",
              "      <td>2</td>\n",
              "      <td>1.199219</td>\n",
              "      <td>1.0625</td>\n",
              "      <td>0.0</td>\n",
              "      <td>0.0</td>\n",
              "      <td>5.112926</td>\n",
              "      <td>0.0</td>\n",
              "      <td>0.0</td>\n",
              "      <td>2.261178</td>\n",
              "      <td>-1.130589</td>\n",
              "      <td>0.0</td>\n",
              "      <td>0.0</td>\n",
              "      <td>1.998335</td>\n",
              "      <td>0</td>\n",
              "      <td>2</td>\n",
              "      <td>-1.0</td>\n",
              "      <td>0.0</td>\n",
              "    </tr>\n",
              "    <tr>\n",
              "      <th>1</th>\n",
              "      <td>dsgdb9nsd_000004</td>\n",
              "      <td>4</td>\n",
              "      <td>0</td>\n",
              "      <td>0</td>\n",
              "      <td>2</td>\n",
              "      <td>1.199219</td>\n",
              "      <td>1.0625</td>\n",
              "      <td>0.0</td>\n",
              "      <td>0.0</td>\n",
              "      <td>1.128054</td>\n",
              "      <td>0.0</td>\n",
              "      <td>0.0</td>\n",
              "      <td>1.062099</td>\n",
              "      <td>-0.531050</td>\n",
              "      <td>0.0</td>\n",
              "      <td>0.0</td>\n",
              "      <td>1.002343</td>\n",
              "      <td>14</td>\n",
              "      <td>1</td>\n",
              "      <td>0.0</td>\n",
              "      <td>0.0</td>\n",
              "    </tr>\n",
              "    <tr>\n",
              "      <th>2</th>\n",
              "      <td>dsgdb9nsd_000004</td>\n",
              "      <td>4</td>\n",
              "      <td>6</td>\n",
              "      <td>1</td>\n",
              "      <td>1</td>\n",
              "      <td>1.062500</td>\n",
              "      <td>0.0000</td>\n",
              "      <td>0.0</td>\n",
              "      <td>0.0</td>\n",
              "      <td>11.044171</td>\n",
              "      <td>0.0</td>\n",
              "      <td>0.0</td>\n",
              "      <td>3.323277</td>\n",
              "      <td>-1.661639</td>\n",
              "      <td>0.0</td>\n",
              "      <td>0.0</td>\n",
              "      <td>3.470471</td>\n",
              "      <td>1</td>\n",
              "      <td>3</td>\n",
              "      <td>0.0</td>\n",
              "      <td>0.0</td>\n",
              "    </tr>\n",
              "    <tr>\n",
              "      <th>3</th>\n",
              "      <td>dsgdb9nsd_000004</td>\n",
              "      <td>4</td>\n",
              "      <td>0</td>\n",
              "      <td>0</td>\n",
              "      <td>2</td>\n",
              "      <td>1.199219</td>\n",
              "      <td>1.0625</td>\n",
              "      <td>0.0</td>\n",
              "      <td>0.0</td>\n",
              "      <td>1.128054</td>\n",
              "      <td>0.0</td>\n",
              "      <td>0.0</td>\n",
              "      <td>1.062099</td>\n",
              "      <td>0.531050</td>\n",
              "      <td>0.0</td>\n",
              "      <td>0.0</td>\n",
              "      <td>1.002343</td>\n",
              "      <td>14</td>\n",
              "      <td>1</td>\n",
              "      <td>0.0</td>\n",
              "      <td>0.0</td>\n",
              "    </tr>\n",
              "    <tr>\n",
              "      <th>4</th>\n",
              "      <td>dsgdb9nsd_000004</td>\n",
              "      <td>4</td>\n",
              "      <td>2</td>\n",
              "      <td>0</td>\n",
              "      <td>2</td>\n",
              "      <td>1.199219</td>\n",
              "      <td>1.0625</td>\n",
              "      <td>0.0</td>\n",
              "      <td>0.0</td>\n",
              "      <td>5.112926</td>\n",
              "      <td>0.0</td>\n",
              "      <td>0.0</td>\n",
              "      <td>2.261178</td>\n",
              "      <td>1.130589</td>\n",
              "      <td>0.0</td>\n",
              "      <td>0.0</td>\n",
              "      <td>1.998335</td>\n",
              "      <td>0</td>\n",
              "      <td>2</td>\n",
              "      <td>-1.0</td>\n",
              "      <td>0.0</td>\n",
              "    </tr>\n",
              "  </tbody>\n",
              "</table>\n",
              "</div>"
            ]
          },
          "metadata": {
            "tags": []
          }
        }
      ]
    },
    {
      "cell_type": "markdown",
      "metadata": {
        "id": "FRcRPhm5KiBv",
        "colab_type": "text"
      },
      "source": [
        "## Prepare data for GBM models"
      ]
    },
    {
      "cell_type": "code",
      "metadata": {
        "trusted": true,
        "id": "19t17BoCKiBw",
        "colab_type": "code",
        "colab": {}
      },
      "source": [
        "# Data for training\n",
        "cols =['mol_index','type','atom_1', 'num_bonds_atom_1', 'bond_len1', 'bond_len2', 'bond_len3', \n",
        "       'bond_len4','dist_x', 'dist_y', 'dist_z', 'distance_vector', 'cent_x', 'cent_y', 'cent_z', \n",
        "       'distance_center','shortest_path_atoms', 'shortest_path_n_bonds', 'cosinus', 'dihedral']"
      ],
      "execution_count": 0,
      "outputs": []
    },
    {
      "cell_type": "code",
      "metadata": {
        "trusted": true,
        "id": "VcRxBKh5KiBz",
        "colab_type": "code",
        "colab": {},
        "outputId": "48a1fd5b-dd23-4de2-e925-51b607a4190c"
      },
      "source": [
        "# Split into training and validation sets\n",
        "from sklearn.model_selection import train_test_split\n",
        "\n",
        "def split_train_data(df):\n",
        "    X_train, X_val, Y_train, Y_val = train_test_split(df[cols].values, df.loc[:, 'scalar_coupling_constant'].values, test_size=0.2, random_state=142)\n",
        "    return X_train, X_val, Y_train, Y_val\n",
        "\n",
        "X_train, X_val, Y_train, Y_val = split_train_data(train)\n",
        "X_train.shape, X_val.shape, Y_train.shape, Y_val.shape"
      ],
      "execution_count": 0,
      "outputs": [
        {
          "output_type": "execute_result",
          "data": {
            "text/plain": [
              "((3726440, 20), (931611, 20), (3726440,), (931611,))"
            ]
          },
          "metadata": {
            "tags": []
          },
          "execution_count": 29
        }
      ]
    },
    {
      "cell_type": "code",
      "metadata": {
        "trusted": true,
        "id": "CqLOufnIKiB2",
        "colab_type": "code",
        "colab": {}
      },
      "source": [
        "# Create a test set\n",
        "X_test = test[cols].values"
      ],
      "execution_count": 0,
      "outputs": []
    },
    {
      "cell_type": "markdown",
      "metadata": {
        "id": "1M2N8wfNKiB4",
        "colab_type": "text"
      },
      "source": [
        "## XGBoost\n"
      ]
    },
    {
      "cell_type": "code",
      "metadata": {
        "trusted": true,
        "id": "zDBkaoNlKiB4",
        "colab_type": "code",
        "colab": {}
      },
      "source": [
        "import xgboost as xgb\n",
        "from xgboost import XGBRegressor"
      ],
      "execution_count": 0,
      "outputs": []
    },
    {
      "cell_type": "code",
      "metadata": {
        "trusted": true,
        "id": "Wz7RSyfSKiB6",
        "colab_type": "code",
        "colab": {}
      },
      "source": [
        "params_xgb = {\n",
        "    'objective': 'reg:squarederror',\n",
        "    'eval_metric': 'mae',\n",
        "    'gamma': 0,\n",
        "    'subsample': 0.8,\n",
        "    'colsample_bytree': 0.8\n",
        "}"
      ],
      "execution_count": 0,
      "outputs": []
    },
    {
      "cell_type": "code",
      "metadata": {
        "trusted": true,
        "id": "O0KhLX06KiB8",
        "colab_type": "code",
        "colab": {},
        "outputId": "02344d61-5a7d-4a9c-9b6f-a10207e2e1ef"
      },
      "source": [
        "# Get model object and fit\n",
        "# We train for 50 iterations (trees) with most parameters set to default. \n",
        "# Training for more iterations did not significantly improve the result\n",
        "\n",
        "model_xgb = XGBRegressor(**params_xgb, n_estimators=50, learning_rate=0.1, booster='gbtree', seed=142, n_jobs=4)\n",
        "model_xgb.fit(X_train, Y_train, early_stopping_rounds=5, eval_set=[(X_train, Y_train)], eval_metric='mae')"
      ],
      "execution_count": 0,
      "outputs": [
        {
          "output_type": "stream",
          "text": [
            "[0]\tvalidation_0-mae:16.5838\n",
            "Will train until validation_0-mae hasn't improved in 5 rounds.\n",
            "[1]\tvalidation_0-mae:15.0992\n",
            "[2]\tvalidation_0-mae:13.7448\n",
            "[3]\tvalidation_0-mae:12.5786\n",
            "[4]\tvalidation_0-mae:11.5329\n",
            "[5]\tvalidation_0-mae:10.5941\n",
            "[6]\tvalidation_0-mae:9.72995\n",
            "[7]\tvalidation_0-mae:8.95236\n",
            "[8]\tvalidation_0-mae:8.26958\n",
            "[9]\tvalidation_0-mae:7.64693\n",
            "[10]\tvalidation_0-mae:7.09531\n",
            "[11]\tvalidation_0-mae:6.56592\n",
            "[12]\tvalidation_0-mae:6.09882\n",
            "[13]\tvalidation_0-mae:5.68458\n",
            "[14]\tvalidation_0-mae:5.29406\n",
            "[15]\tvalidation_0-mae:4.96775\n",
            "[16]\tvalidation_0-mae:4.66299\n",
            "[17]\tvalidation_0-mae:4.38616\n",
            "[18]\tvalidation_0-mae:4.14095\n",
            "[19]\tvalidation_0-mae:3.91503\n",
            "[20]\tvalidation_0-mae:3.72809\n",
            "[21]\tvalidation_0-mae:3.55725\n",
            "[22]\tvalidation_0-mae:3.40273\n",
            "[23]\tvalidation_0-mae:3.26792\n",
            "[24]\tvalidation_0-mae:3.14843\n",
            "[25]\tvalidation_0-mae:3.04324\n",
            "[26]\tvalidation_0-mae:2.96243\n",
            "[27]\tvalidation_0-mae:2.88948\n",
            "[28]\tvalidation_0-mae:2.82351\n",
            "[29]\tvalidation_0-mae:2.76775\n",
            "[30]\tvalidation_0-mae:2.71782\n",
            "[31]\tvalidation_0-mae:2.671\n",
            "[32]\tvalidation_0-mae:2.62948\n",
            "[33]\tvalidation_0-mae:2.60008\n",
            "[34]\tvalidation_0-mae:2.57107\n",
            "[35]\tvalidation_0-mae:2.54914\n",
            "[36]\tvalidation_0-mae:2.5265\n",
            "[37]\tvalidation_0-mae:2.50545\n",
            "[38]\tvalidation_0-mae:2.49135\n",
            "[39]\tvalidation_0-mae:2.47169\n",
            "[40]\tvalidation_0-mae:2.45894\n",
            "[41]\tvalidation_0-mae:2.44676\n",
            "[42]\tvalidation_0-mae:2.43283\n",
            "[43]\tvalidation_0-mae:2.42082\n",
            "[44]\tvalidation_0-mae:2.41109\n",
            "[45]\tvalidation_0-mae:2.39573\n",
            "[46]\tvalidation_0-mae:2.38735\n",
            "[47]\tvalidation_0-mae:2.38042\n",
            "[48]\tvalidation_0-mae:2.36873\n",
            "[49]\tvalidation_0-mae:2.35955\n"
          ],
          "name": "stdout"
        },
        {
          "output_type": "execute_result",
          "data": {
            "text/plain": [
              "XGBRegressor(base_score=0.5, booster='gbtree', colsample_bylevel=1,\n",
              "             colsample_bynode=1, colsample_bytree=0.8, eval_metric='mae',\n",
              "             gamma=0, importance_type='gain', learning_rate=0.1,\n",
              "             max_delta_step=0, max_depth=3, min_child_weight=1, missing=None,\n",
              "             n_estimators=50, n_jobs=4, nthread=None,\n",
              "             objective='reg:squarederror', random_state=0, reg_alpha=0,\n",
              "             reg_lambda=1, scale_pos_weight=1, seed=142, silent=None,\n",
              "             subsample=0.8, verbosity=1)"
            ]
          },
          "metadata": {
            "tags": []
          },
          "execution_count": 33
        }
      ]
    },
    {
      "cell_type": "code",
      "metadata": {
        "trusted": true,
        "id": "ursSvNNtKiB-",
        "colab_type": "code",
        "colab": {},
        "outputId": "d67d3ddb-6aa4-4246-8cec-0288fe5b6ed4"
      },
      "source": [
        "print(\"Results: {}\".format(model_xgb.evals_result()))\n",
        "print(\"Best Iteration: {}\".format(model_xgb.get_booster().best_iteration))\n",
        "print(\"Best Iteration: {}\".format(model_xgb.get_booster().best_score))\n",
        "print(\"Feature importances: {}\".format(model_xgb.feature_importances_))"
      ],
      "execution_count": 0,
      "outputs": [
        {
          "output_type": "stream",
          "text": [
            "Results: {'validation_0': {'mae': [16.583771, 15.099237, 13.744792, 12.578604, 11.532896, 10.594051, 9.729951, 8.952362, 8.26958, 7.646933, 7.095306, 6.565923, 6.098825, 5.684577, 5.294059, 4.967754, 4.662986, 4.386157, 4.140945, 3.915033, 3.728087, 3.557254, 3.402734, 3.267924, 3.148425, 3.043242, 2.962428, 2.889477, 2.82351, 2.76775, 2.717825, 2.671001, 2.629484, 2.600083, 2.571067, 2.549139, 2.526502, 2.505454, 2.491348, 2.471695, 2.45894, 2.446757, 2.432832, 2.420822, 2.411087, 2.395733, 2.387349, 2.380424, 2.36873, 2.359555]}}\n",
            "Best Iteration: 49\n",
            "Best Iteration: 2.359555\n",
            "Feature importances: [1.8269435e-05 2.2067089e-01 3.6567517e-02 4.2412737e-03 1.5346581e-03\n",
            " 1.2461800e-03 2.0222031e-03 1.4684597e-02 0.0000000e+00 0.0000000e+00\n",
            " 0.0000000e+00 1.5301306e-02 0.0000000e+00 0.0000000e+00 0.0000000e+00\n",
            " 0.0000000e+00 1.1324298e-03 7.0103663e-01 7.5697183e-04 7.8709662e-04]\n"
          ],
          "name": "stdout"
        }
      ]
    },
    {
      "cell_type": "code",
      "metadata": {
        "trusted": true,
        "id": "OvkoLrmpKiCA",
        "colab_type": "code",
        "colab": {},
        "outputId": "e901ca64-2294-4ada-f4ad-d04580c27722"
      },
      "source": [
        "# make predictions on the validation set and give result as log of MAE (the competition metric)\n",
        "y_pred_xgb = model_xgb.predict(X_val)\n",
        "score_xgb = np.log(mean_absolute_error(Y_val, y_pred_xgb))\n",
        "print(f'XGBoost score (log MAE): {score_xgb}')"
      ],
      "execution_count": 0,
      "outputs": [
        {
          "output_type": "stream",
          "text": [
            "XGBoost score (log MAE): 0.8596256971359253\n"
          ],
          "name": "stdout"
        }
      ]
    },
    {
      "cell_type": "code",
      "metadata": {
        "trusted": true,
        "id": "_ANePOthKiCD",
        "colab_type": "code",
        "colab": {},
        "outputId": "36974baa-0526-4275-a4c4-dec6c7b32f84"
      },
      "source": [
        "# plot predicted vs actual for validation set\n",
        "plot_data_xgb = pd.DataFrame(data=Y_val, columns=['scalar_coupling_constants'])\n",
        "plot_data_xgb.index.name = 'id'\n",
        "plot_data_xgb['preds'] = y_pred_xgb\n",
        "\n",
        "plot_preds(plot_data_xgb, \"XGBoost\" )"
      ],
      "execution_count": 0,
      "outputs": [
        {
          "output_type": "display_data",
          "data": {
            "text/plain": [
              "<Figure size 432x432 with 1 Axes>"
            ],
            "image/png": "[encoded data removed]"
          },
          "metadata": {
            "tags": [],
            "needs_background": "light"
          }
        }
      ]
    },
    {
      "cell_type": "code",
      "metadata": {
        "trusted": true,
        "id": "9B76HgoEKiCH",
        "colab_type": "code",
        "colab": {},
        "outputId": "611fb7d1-4fcc-45e2-9b91-b2a5a4f8fdc0"
      },
      "source": [
        "# plot feature importances\n",
        "model_xgb.get_booster().feature_names = cols\n",
        "fig, ax = plt.subplots(figsize=(10,8))\n",
        "ax = xgb.plot_importance(model_xgb.get_booster(), ax=ax)"
      ],
      "execution_count": 0,
      "outputs": [
        {
          "output_type": "display_data",
          "data": {
            "text/plain": [
              "<Figure size 720x576 with 1 Axes>"
            ],
            "image/png": "[encoded data removed]"
          },
          "metadata": {
            "tags": [],
            "needs_background": "light"
          }
        }
      ]
    },
    {
      "cell_type": "markdown",
      "metadata": {
        "id": "AkDtDu_nKiCL",
        "colab_type": "text"
      },
      "source": [
        "Interestingly, the most importnat features were distance vector, coupling type, bond lengths and angles which are exactly the factors that influence the magnitude of coupling constants in the wild. So we are likelt on the right track with our feature constuction. "
      ]
    },
    {
      "cell_type": "markdown",
      "metadata": {
        "id": "MtW0lt9CKiCM",
        "colab_type": "text"
      },
      "source": [
        "## Light GBM\n",
        "Light LGBM horizontal tree based gradient boosting.  "
      ]
    },
    {
      "cell_type": "code",
      "metadata": {
        "trusted": true,
        "id": "aqmLKelqKiCM",
        "colab_type": "code",
        "colab": {}
      },
      "source": [
        "import lightgbm as lgb"
      ],
      "execution_count": 0,
      "outputs": []
    },
    {
      "cell_type": "code",
      "metadata": {
        "trusted": true,
        "id": "LaW91Cn0KiCO",
        "colab_type": "code",
        "colab": {}
      },
      "source": [
        "# Get model object and fit\n",
        "# We set the learning rate to 0.2 and number of leaves to 1000 but otherwise leave the other parameters to default\n",
        "# We show training for 1200 rounds but further improvements in MAE were gained with trainig up to around 4000 rounds. \n",
        "\n",
        "params_lgb = {'boosting_type': 'gbdt',\n",
        "            'objective': 'regression',\n",
        "            'metric': 'mae',\n",
        "            'learning_rate': 0.2,\n",
        "            'num_leaves': 1000, \n",
        "            'nthread': 4, \n",
        "            'device': 'cpu'}"
      ],
      "execution_count": 0,
      "outputs": []
    },
    {
      "cell_type": "code",
      "metadata": {
        "trusted": true,
        "id": "SJBSfU5tKiCQ",
        "colab_type": "code",
        "colab": {},
        "outputId": "7105dc9f-d614-4314-d85d-012463455051"
      },
      "source": [
        "# get model object and fit\n",
        "lgb_train = lgb.Dataset(X_train,Y_train)\n",
        "lgb_val = lgb.Dataset(X_val, Y_val)\n",
        "evals_result = {}\n",
        "\n",
        "num_boost_round = 1200\n",
        "early_stopping_rounds = 200\n",
        "\n",
        "model_lgb = lgb.train(params_lgb,\n",
        "                 lgb_train,\n",
        "                 num_boost_round=num_boost_round,\n",
        "                 valid_sets=[lgb_train, lgb_val],\n",
        "                 early_stopping_rounds=early_stopping_rounds,\n",
        "                 evals_result=evals_result,\n",
        "                 verbose_eval=100)"
      ],
      "execution_count": 0,
      "outputs": [
        {
          "output_type": "stream",
          "text": [
            "Training until validation scores don't improve for 200 rounds.\n",
            "[100]\ttraining's l1: 1.07604\tvalid_1's l1: 1.1438\n",
            "[200]\ttraining's l1: 0.969984\tvalid_1's l1: 1.08103\n",
            "[300]\ttraining's l1: 0.89496\tvalid_1's l1: 1.04187\n",
            "[400]\ttraining's l1: 0.836625\tvalid_1's l1: 1.0142\n",
            "[500]\ttraining's l1: 0.788833\tvalid_1's l1: 0.994859\n",
            "[600]\ttraining's l1: 0.747704\tvalid_1's l1: 0.97865\n",
            "[700]\ttraining's l1: 0.7112\tvalid_1's l1: 0.966721\n",
            "[800]\ttraining's l1: 0.678677\tvalid_1's l1: 0.955998\n",
            "[900]\ttraining's l1: 0.648555\tvalid_1's l1: 0.947135\n",
            "[1000]\ttraining's l1: 0.622527\tvalid_1's l1: 0.940029\n",
            "[1100]\ttraining's l1: 0.598679\tvalid_1's l1: 0.933778\n",
            "[1200]\ttraining's l1: 0.576333\tvalid_1's l1: 0.927854\n",
            "Did not meet early stopping. Best iteration is:\n",
            "[1200]\ttraining's l1: 0.576333\tvalid_1's l1: 0.927854\n"
          ],
          "name": "stdout"
        }
      ]
    },
    {
      "cell_type": "code",
      "metadata": {
        "trusted": true,
        "id": "0lQ6bTOmKiCT",
        "colab_type": "code",
        "colab": {},
        "outputId": "4d4dd2f6-436b-482b-8124-6bebabe6b968"
      },
      "source": [
        "# print(model_lgb.eval_result())\n",
        "print(f'Best iteration: {model_lgb.best_iteration}')\n",
        "print(f'Best Score: {model_lgb.best_score}')"
      ],
      "execution_count": 0,
      "outputs": [
        {
          "output_type": "stream",
          "text": [
            "Best iteration: 1200\n",
            "Best Score: defaultdict(<class 'dict'>, {'training': {'l1': 0.5763331349815004}, 'valid_1': {'l1': 0.9278543612378087}})\n"
          ],
          "name": "stdout"
        }
      ]
    },
    {
      "cell_type": "code",
      "metadata": {
        "trusted": true,
        "id": "7KPxYr38KiCY",
        "colab_type": "code",
        "colab": {},
        "outputId": "b706f112-17c5-42f8-fa25-6581c35b48f9"
      },
      "source": [
        "# make predictions on the validation set and give result as log of MAE (the competition metric)\n",
        "y_pred_lgb=model_lgb.predict(X_val)\n",
        "score_lgb = np.log(mean_absolute_error(Y_val, y_pred_lgb))\n",
        "print(f'Light GBM score (log MAE): {score_lgb}')"
      ],
      "execution_count": 0,
      "outputs": [
        {
          "output_type": "stream",
          "text": [
            "Light GBM score (log MAE): -0.07488049683336184\n"
          ],
          "name": "stdout"
        }
      ]
    },
    {
      "cell_type": "code",
      "metadata": {
        "trusted": true,
        "id": "OAPd-Gm6KiCa",
        "colab_type": "code",
        "colab": {},
        "outputId": "a9af28db-1f94-4ed0-a63c-d5e2af740be4"
      },
      "source": [
        "# Plot predicted vs actual coupling constants for validation set\n",
        "import matplotlib.pyplot as plt\n",
        "\n",
        "plot_data_lgb = pd.DataFrame(data=Y_val, columns=['scalar_coupling_constants'])\n",
        "plot_data_lgb.index.name = 'id'\n",
        "plot_data_lgb['preds'] = y_pred_lgb\n",
        "\n",
        "plot_preds(plot_data_lgb, \"Light GBM\")"
      ],
      "execution_count": 0,
      "outputs": [
        {
          "output_type": "display_data",
          "data": {
            "text/plain": [
              "<Figure size 432x432 with 1 Axes>"
            ],
            "image/png": "[encoded data removed]"
          },
          "metadata": {
            "tags": [],
            "needs_background": "light"
          }
        }
      ]
    },
    {
      "cell_type": "code",
      "metadata": {
        "trusted": true,
        "id": "_mquyKqBKiCd",
        "colab_type": "code",
        "colab": {},
        "outputId": "f9c6ac7f-78cd-443f-8984-ebd1e518f7a2"
      },
      "source": [
        "# Plot feature importances\n",
        "import matplotlib.pyplot as plt\n",
        "\n",
        "cols_ = (list(train[cols].columns))\n",
        "df_importance = pd.DataFrame({'feature': cols_, 'importance': model_lgb.feature_importance()})\n",
        "print('Feature importances Light GBM model')\n",
        "\n",
        "plt = plt.figure(figsize=(18,10))\n",
        "sns.barplot(x='importance', y='feature', data=df_importance.sort_values('importance', ascending=False))\n",
        "plt.show()\n"
      ],
      "execution_count": 0,
      "outputs": [
        {
          "output_type": "stream",
          "text": [
            "Feature importances Light GBM model\n"
          ],
          "name": "stdout"
        },
        {
          "output_type": "display_data",
          "data": {
            "text/plain": [
              "<Figure size 1296x720 with 1 Axes>"
            ],
            "image/png": "[encoded data removed]"
          },
          "metadata": {
            "tags": [],
            "needs_background": "light"
          }
        }
      ]
    },
    {
      "cell_type": "markdown",
      "metadata": {
        "id": "d9gJnx7RKiCj",
        "colab_type": "text"
      },
      "source": [
        "Similar to the XBoost model, LGBM feature importances highlight bond lengths and vector distances as most important and atoms types least important. "
      ]
    },
    {
      "cell_type": "markdown",
      "metadata": {
        "id": "c8MrTLHFKiCk",
        "colab_type": "text"
      },
      "source": [
        "## LGBM Regressor\n",
        "Scikit learn's implementation of Light GBM (should give same results as Light GBM - but lets check!)"
      ]
    },
    {
      "cell_type": "code",
      "metadata": {
        "trusted": true,
        "id": "zf3dixCOKiCl",
        "colab_type": "code",
        "colab": {}
      },
      "source": [
        "from lightgbm import LGBMRegressor"
      ],
      "execution_count": 0,
      "outputs": []
    },
    {
      "cell_type": "code",
      "metadata": {
        "trusted": true,
        "id": "HJGf-arxKiCo",
        "colab_type": "code",
        "colab": {},
        "outputId": "eed1d0c0-59cd-4c25-c617-e75ab16a19fc"
      },
      "source": [
        "# Get model object and fit\n",
        "model_lgbreg = LGBMRegressor(**params_lgb, n_estimators=1200, n_jobs=-1)\n",
        "model_lgbreg.fit(X_train, Y_train, eval_set=[(X_train, Y_train), (X_val, Y_val)], eval_metric='mae', verbose=100, early_stopping_rounds=200)"
      ],
      "execution_count": 0,
      "outputs": [
        {
          "output_type": "stream",
          "text": [
            "Training until validation scores don't improve for 200 rounds.\n",
            "[100]\ttraining's l1: 1.07604\tvalid_1's l1: 1.1438\n",
            "[200]\ttraining's l1: 0.969984\tvalid_1's l1: 1.08103\n",
            "[300]\ttraining's l1: 0.89496\tvalid_1's l1: 1.04187\n",
            "[400]\ttraining's l1: 0.836625\tvalid_1's l1: 1.0142\n",
            "[500]\ttraining's l1: 0.788833\tvalid_1's l1: 0.994859\n",
            "[600]\ttraining's l1: 0.747704\tvalid_1's l1: 0.97865\n",
            "[700]\ttraining's l1: 0.7112\tvalid_1's l1: 0.966721\n",
            "[800]\ttraining's l1: 0.678677\tvalid_1's l1: 0.955998\n",
            "[900]\ttraining's l1: 0.648555\tvalid_1's l1: 0.947135\n",
            "[1000]\ttraining's l1: 0.622527\tvalid_1's l1: 0.940029\n",
            "[1100]\ttraining's l1: 0.598679\tvalid_1's l1: 0.933778\n",
            "[1200]\ttraining's l1: 0.576333\tvalid_1's l1: 0.927854\n",
            "Did not meet early stopping. Best iteration is:\n",
            "[1200]\ttraining's l1: 0.576333\tvalid_1's l1: 0.927854\n"
          ],
          "name": "stdout"
        },
        {
          "output_type": "execute_result",
          "data": {
            "text/plain": [
              "LGBMRegressor(boosting_type='gbdt', class_weight=None, colsample_bytree=1.0,\n",
              "              device='cpu', importance_type='split', learning_rate=0.2,\n",
              "              max_depth=-1, metric='mae', min_child_samples=20,\n",
              "              min_child_weight=0.001, min_split_gain=0.0, n_estimators=1200,\n",
              "              n_jobs=-1, nthread=4, num_leaves=1000, objective='regression',\n",
              "              random_state=None, reg_alpha=0.0, reg_lambda=0.0, silent=True,\n",
              "              subsample=1.0, subsample_for_bin=200000, subsample_freq=0)"
            ]
          },
          "metadata": {
            "tags": []
          },
          "execution_count": 46
        }
      ]
    },
    {
      "cell_type": "code",
      "metadata": {
        "trusted": true,
        "id": "fETYxXCiKiCq",
        "colab_type": "code",
        "colab": {},
        "outputId": "c84907b8-266b-4d84-8efc-8b90abb09e8e"
      },
      "source": [
        "# make predictions on the validation set and give result as log of MAE (the competition metric)\n",
        "y_pred_lgbreg = model_lgbreg.predict(X_val)\n",
        "score_lgbreg = np.log(mean_absolute_error(Y_val, y_pred_lgbreg))\n",
        "print(f'LGBRegression score (log MAE): {score_lgbreg}')"
      ],
      "execution_count": 0,
      "outputs": [
        {
          "output_type": "stream",
          "text": [
            "LGBRegression score (log MAE): -0.07488049683336567\n"
          ],
          "name": "stdout"
        }
      ]
    },
    {
      "cell_type": "markdown",
      "metadata": {
        "id": "T2Zbbox5KiCs",
        "colab_type": "text"
      },
      "source": [
        "## Best Model : Light GBM or LGBMRegressor\n",
        "LightGBM and LGBMRegressor gave same scores with default set of parameters. Lets use LBMRegressor as our best model going forward.\n",
        "\n",
        "Examine the feature importances and predictions from the best model in a bit more detail"
      ]
    },
    {
      "cell_type": "code",
      "metadata": {
        "trusted": true,
        "id": "IB9dNLwqKiCt",
        "colab_type": "code",
        "colab": {},
        "outputId": "b453687c-4cea-4de3-a33c-d725ea8ca981"
      },
      "source": [
        "# plot predicted vs actual for whole validation set\n",
        "import matplotlib.pyplot as plt\n",
        "plot_data_lgbreg = pd.DataFrame(data=Y_val, columns=['scalar_coupling_constants'])\n",
        "plot_data_lgbreg.index.name = 'id'\n",
        "plot_data_lgbreg['preds'] = y_pred_lgbreg\n",
        "\n",
        "plot_preds(plot_data_lgbreg, \"LGBM Regressor\")"
      ],
      "execution_count": 0,
      "outputs": [
        {
          "output_type": "display_data",
          "data": {
            "text/plain": [
              "<Figure size 432x432 with 1 Axes>"
            ],
            "image/png": "[encoded data removed]"
          },
          "metadata": {
            "tags": [],
            "needs_background": "light"
          }
        }
      ]
    },
    {
      "cell_type": "code",
      "metadata": {
        "trusted": true,
        "id": "i70op9z9KiCu",
        "colab_type": "code",
        "colab": {},
        "outputId": "86dc0a85-91c6-4d49-f21b-2ff90904868c"
      },
      "source": [
        "# Plot feature importances\n",
        "import matplotlib.pyplot as plt\n",
        "\n",
        "cols = (list(train[cols].columns))\n",
        "df_importance = pd.DataFrame({'feature': cols, 'importance': model_lgbreg.feature_importances_})\n",
        "print('Feature importances Light GBM model')\n",
        "\n",
        "plt = plt.figure(figsize=(18,10))\n",
        "sns.barplot(x='importance', y='feature', data=df_importance.sort_values('importance', ascending=False))\n",
        "plt.show()"
      ],
      "execution_count": 0,
      "outputs": [
        {
          "output_type": "stream",
          "text": [
            "Feature importances Light GBM model\n"
          ],
          "name": "stdout"
        },
        {
          "output_type": "display_data",
          "data": {
            "text/plain": [
              "<Figure size 1296x720 with 1 Axes>"
            ],
            "image/png": "[encoded data removed]"
          },
          "metadata": {
            "tags": [],
            "needs_background": "light"
          }
        }
      ]
    },
    {
      "cell_type": "code",
      "metadata": {
        "trusted": true,
        "id": "gqarhTytKiCw",
        "colab_type": "code",
        "colab": {},
        "outputId": "dad50fc6-5ff3-408a-d421-482ca71e6a05"
      },
      "source": [
        "# plot predicted vs actual coupling constants for each type of j coupling, 1j, 2j and 3j\n",
        "import matplotlib.pyplot as plt\n",
        "\n",
        "fig, ax = plt.subplots(figsize=(18,6))\n",
        "\n",
        "def plot_preds_by_j(data, j):\n",
        "    plt.subplot(1,3,j)\n",
        "    plot_data = data[X_val[:,17] == j]\n",
        "    sns.scatterplot(x=plot_data[\"scalar_coupling_constants\"], y=data['preds'])\n",
        "    plt.title(f'{j}j couplings', pad='20')\n",
        "\n",
        "for x in range(3): plot_preds_by_j(plot_data_lgbreg, x+1)\n",
        "fig.show()"
      ],
      "execution_count": 0,
      "outputs": [
        {
          "output_type": "display_data",
          "data": {
            "text/plain": [
              "<Figure size 1296x432 with 3 Axes>"
            ],
            "image/png": "[encoded data removed]"
          },
          "metadata": {
            "tags": [],
            "needs_background": "light"
          }
        }
      ]
    },
    {
      "cell_type": "markdown",
      "metadata": {
        "id": "iTBwsq6BKiCy",
        "colab_type": "text"
      },
      "source": [
        "## Optimise best model (LightGBM) parameters using GridSearch"
      ]
    },
    {
      "cell_type": "code",
      "metadata": {
        "trusted": true,
        "id": "9U1MlZojKiCy",
        "colab_type": "code",
        "colab": {},
        "outputId": "01f5b867-9041-41ee-c373-cfb622830218"
      },
      "source": [
        "# GridSearch\n",
        "# Initial experimentation suggested that num_leaves, subsamples and col_sample_by_tree whad the greatest infuence on results and so we tune these with gridsearch. \n",
        "\n",
        "from sklearn.model_selection import GridSearchCV\n",
        "from sklearn.model_selection import train_test_split\n",
        "from sklearn.model_selection import KFold\n",
        "from sklearn.metrics import mean_absolute_error\n",
        "\n",
        "kf = KFold(n_splits=3, random_state=142)\n",
        "X_train_src, X_val_src, Y_train_src, Y_val_src = train_test_split(X_val, Y_val, train_size=0.07, test_size=0.03, random_state=142)\n",
        "print(f'{X_train_src.shape}, {X_val_src.shape}, {Y_train_src.shape}, {Y_val_src.shape}')\n",
        "\n",
        "params_grid = {#'n_estimators':[200],\n",
        "               'max_depth':  [-1],\n",
        "               'num_leaves': [512, 1024, 2048, 4096],\n",
        "               'subsample': [0.2, 0.4, 0.6, 0.8],\n",
        "               'colsample_bytree': [0.6, 0.7, 0.8, 1.0],\n",
        "                }\n",
        "print(f'Start GridSearch')\n",
        "print(f'Sample size: {len(X_val_src)}')\n",
        "print(f'Search parameters:  {params_grid}')\n",
        "print('...')\n",
        "\n",
        "est_lgb = LGBMRegressor(boosting='gbdt', n_jobs = -1, random_state=142)\n",
        "gs = GridSearchCV(est_lgb, params_grid, scoring='neg_mean_absolute_error', verbose=True, n_jobs=-1, cv=kf)\n",
        "gs_results = gs.fit(X_train_src, Y_train_src)\n",
        "\n",
        "print(\"BEST PARAMETERS: \" + str(gs_results.best_params_))\n",
        "print(\"BEST CV SCORE: \" + str(gs_results.best_score_))\n",
        "\n",
        "# Predict (after fitting GridSearch is an estimator with best parameters)\n",
        "y_pred = gs.predict(X_val_src)\n",
        "\n",
        "# Score\n",
        "score = mean_absolute_error(Y_val_src, y_pred)\n",
        "print(\"MAE SCORE ON TEST DATA: {}\".format(score))"
      ],
      "execution_count": 0,
      "outputs": [
        {
          "output_type": "stream",
          "text": [
            "(65212, 20), (27949, 20), (65212,), (27949,)\n",
            "Start GridSearch\n",
            "Sample size: 27949\n",
            "Search parameters:  {'max_depth': [-1], 'num_leaves': [512, 1024, 2048, 4096], 'subsample': [0.2, 0.4, 0.6, 0.8], 'colsample_bytree': [0.6, 0.7, 0.8, 1.0]}\n",
            "...\n",
            "Fitting 3 folds for each of 64 candidates, totalling 192 fits\n"
          ],
          "name": "stdout"
        },
        {
          "output_type": "stream",
          "text": [
            "[Parallel(n_jobs=-1)]: Using backend LokyBackend with 2 concurrent workers.\n",
            "[Parallel(n_jobs=-1)]: Done  46 tasks      | elapsed:  4.9min\n",
            "[Parallel(n_jobs=-1)]: Done 192 out of 192 | elapsed: 23.7min finished\n"
          ],
          "name": "stderr"
        },
        {
          "output_type": "stream",
          "text": [
            "BEST PARAMETERS: {'colsample_bytree': 0.8, 'max_depth': -1, 'num_leaves': 2048, 'subsample': 0.2}\n",
            "BEST CV SCORE: -1.5268705558080045\n",
            "MAE SCORE ON TEST DATA: 1.468372710443751\n"
          ],
          "name": "stdout"
        }
      ]
    },
    {
      "cell_type": "markdown",
      "metadata": {
        "id": "OUiIpdpJKiC2",
        "colab_type": "text"
      },
      "source": [
        "## Retrain and predict\n",
        "Retrain our LightGBM best model on the whole dataset using the optimised parameters from GridSearch above \n",
        "\n",
        "Also increase the number of iterations to 2000 or until early stopping."
      ]
    },
    {
      "cell_type": "code",
      "metadata": {
        "trusted": true,
        "id": "AAc3cNy4KiC2",
        "colab_type": "code",
        "colab": {}
      },
      "source": [
        "# Optimised parameters\n",
        "params_lgb_opt = {'boosting_type': 'gbdt',\n",
        "            'objective': 'regression',\n",
        "            'metric': 'mae',\n",
        "            'learning_rate': 0.2,\n",
        "            'num_leaves': 4096,\n",
        "            'subsample': 0.2,\n",
        "            'colsample_bytree': 0.8,\n",
        "            'nthread': 4, \n",
        "            'device': 'cpu'}"
      ],
      "execution_count": 0,
      "outputs": []
    },
    {
      "cell_type": "code",
      "metadata": {
        "trusted": true,
        "id": "syX5pHAfKiC6",
        "colab_type": "code",
        "colab": {},
        "outputId": "94f5ff07-71c7-4294-df7e-251ce69c39f8"
      },
      "source": [
        "# Get model object and fit\n",
        "model_lgbreg = LGBMRegressor(**params_lgb_opt, n_estimators=2000, n_jobs=-1)\n",
        "model_lgbreg.fit(X_train, Y_train, eval_set=[(X_train, Y_train), (X_val, Y_val)], eval_metric='mae', verbose=200, early_stopping_rounds=200)"
      ],
      "execution_count": 0,
      "outputs": [
        {
          "output_type": "stream",
          "text": [
            "Training until validation scores don't improve for 200 rounds.\n",
            "[200]\ttraining's l1: 0.686447\tvalid_1's l1: 0.965036\n",
            "[400]\ttraining's l1: 0.51014\tvalid_1's l1: 0.918781\n",
            "[600]\ttraining's l1: 0.40361\tvalid_1's l1: 0.898707\n",
            "[800]\ttraining's l1: 0.328932\tvalid_1's l1: 0.888677\n",
            "[1000]\ttraining's l1: 0.273027\tvalid_1's l1: 0.881905\n",
            "[1200]\ttraining's l1: 0.227641\tvalid_1's l1: 0.877139\n",
            "[1400]\ttraining's l1: 0.19198\tvalid_1's l1: 0.873829\n",
            "[1600]\ttraining's l1: 0.163145\tvalid_1's l1: 0.871436\n",
            "[1800]\ttraining's l1: 0.139425\tvalid_1's l1: 0.869701\n",
            "[2000]\ttraining's l1: 0.119732\tvalid_1's l1: 0.868435\n",
            "Did not meet early stopping. Best iteration is:\n",
            "[2000]\ttraining's l1: 0.119732\tvalid_1's l1: 0.868435\n"
          ],
          "name": "stdout"
        },
        {
          "output_type": "execute_result",
          "data": {
            "text/plain": [
              "LGBMRegressor(boosting_type='gbdt', class_weight=None, colsample_bytree=0.8,\n",
              "              device='cpu', importance_type='split', learning_rate=0.2,\n",
              "              max_depth=-1, metric='mae', min_child_samples=20,\n",
              "              min_child_weight=0.001, min_split_gain=0.0, n_estimators=2000,\n",
              "              n_jobs=-1, nthread=4, num_leaves=4096, objective='regression',\n",
              "              random_state=None, reg_alpha=0.0, reg_lambda=0.0, silent=True,\n",
              "              subsample=0.2, subsample_for_bin=200000, subsample_freq=0)"
            ]
          },
          "metadata": {
            "tags": []
          },
          "execution_count": 53
        }
      ]
    },
    {
      "cell_type": "markdown",
      "metadata": {
        "id": "HziMN-tgKiC8",
        "colab_type": "text"
      },
      "source": [
        "After 1200 iterations we have a validation loss (MAE) of 0.864546 compared to 0.927854 for the LGBM model with default parameters so it look like the model is performing much better with our hyperparameter optimisation. Thanks GridSearch!"
      ]
    },
    {
      "cell_type": "code",
      "metadata": {
        "trusted": true,
        "id": "ljlU0_ZPKiC9",
        "colab_type": "code",
        "colab": {},
        "outputId": "6a31317e-ea1d-46f4-d705-03f7d2d79fd9"
      },
      "source": [
        "# make predictions on the validation set and give result as log of MAE (the competition metric)\n",
        "y_pred_lgbreg = model_lgbreg.predict(X_val)\n",
        "score_lgbreg = np.log(mean_absolute_error(Y_val, y_pred_lgbreg))\n",
        "print(f'LGBRegression score (log MAE): {score_lgbreg}')"
      ],
      "execution_count": 0,
      "outputs": [
        {
          "output_type": "stream",
          "text": [
            "LGBRegression score (log MAE): -0.14106292354532957\n"
          ],
          "name": "stdout"
        }
      ]
    },
    {
      "cell_type": "markdown",
      "metadata": {
        "id": "Ymy3MAisKiC-",
        "colab_type": "text"
      },
      "source": [
        "## Split the dataset by coupling type and train/predict on each subset individually.\n",
        "\n",
        "EDA showed that for some features there was a clear grouping of the data characteristics by coupling type. So lets try splitting the  dataset into subsets by coupling type and train/predict on each subset individually then recombine to give an overall score."
      ]
    },
    {
      "cell_type": "code",
      "metadata": {
        "trusted": true,
        "id": "U3k4rssWKiC_",
        "colab_type": "code",
        "colab": {},
        "outputId": "be8e42a5-d1c0-4cf4-b7b5-04aac25bd989"
      },
      "source": [
        "%%time\n",
        "from sklearn.model_selection import train_test_split\n",
        "\n",
        "types = ['1JHC', '1JHN', '2JHH', '2JHC', '2JHN', '3JHH', '3JHC', \"3JHN\"]\n",
        "train_t = [0] * 8\n",
        "val_t = [0] * 8\n",
        "for i, t in enumerate(types):\n",
        "    t_map = encoder_mapping[t]\n",
        "    train_t[i], val_t[i] = train_test_split(train[train.type== t_map], train_size=0.75, shuffle=False, random_state=42)\n",
        "\n",
        "def get_split_info(train, val):\n",
        "    r = round(len(train)/(len(train)+len(val)), 2)\n",
        "    t_bonds = len(train)+len(val)\n",
        "    return [r, len(train), train[\"molecule_name\"].nunique(), 1-r, len(val), val[\"molecule_name\"].nunique()]\n",
        "          \n",
        "df_data = [get_split_info(train_t[0], val_t[0]), get_split_info(train_t[1], val_t[1]), get_split_info(train_t[2], val_t[2]), get_split_info(train_t[3], val_t[3]), \n",
        "           get_split_info(train_t[4], val_t[4]), get_split_info(train_t[5], val_t[5]), get_split_info(train_t[6], val_t[6]), get_split_info(train_t[7], val_t[7])]\n",
        "df_cols = ['train split', 'train: bonds', 'train: unique mols', 'val split', 'val: bonds', 'val: unique mols']\n",
        "df_idx = types\n",
        "df = pd.DataFrame(df_data, columns=df_cols, index=df_idx)\n",
        "df\n",
        "\n",
        "train.head()\n"
      ],
      "execution_count": 0,
      "outputs": [
        {
          "output_type": "stream",
          "text": [
            "CPU times: user 1.06 s, sys: 0 ns, total: 1.06 s\n",
            "Wall time: 1.07 s\n"
          ],
          "name": "stdout"
        },
        {
          "output_type": "execute_result",
          "data": {
            "text/plain": [
              "      molecule_name  mol_index  type  scalar_coupling_constant  atom_1  \\\n",
              "0  dsgdb9nsd_000001          1     0                 84.807602       0   \n",
              "1  dsgdb9nsd_000001          1     3                -11.257000       1   \n",
              "2  dsgdb9nsd_000001          1     3                -11.254800       1   \n",
              "3  dsgdb9nsd_000001          1     3                -11.254300       1   \n",
              "4  dsgdb9nsd_000001          1     0                 84.807404       0   \n",
              "\n",
              "   num_bonds_atom_1  bond_len1  bond_len2  bond_len3  bond_len4    dist_x  \\\n",
              "0                 4   1.091797   1.091797   1.091797   1.091797  0.000220   \n",
              "1                 1   1.091797   0.000000   0.000000   0.000000  1.019253   \n",
              "2                 1   1.091797   0.000000   0.000000   0.000000  0.294812   \n",
              "3                 1   1.091797   0.000000   0.000000   0.000000  0.276638   \n",
              "4                 4   1.091797   1.091797   1.091797   1.091797  1.049455   \n",
              "\n",
              "     dist_y    dist_z  distance_vector    cent_x    cent_y    cent_z  \\\n",
              "0  1.192104  0.000036         1.091953  0.007424 -0.545918 -0.003012   \n",
              "1  2.160260  0.000003         1.783120 -0.504790 -0.734891  0.000850   \n",
              "2  2.112830  0.771973         1.783147  0.271483 -0.726779  0.439310   \n",
              "3  2.085032  0.817978         1.783157  0.262982 -0.721982 -0.452211   \n",
              "4  0.142844  0.000060         1.091952  0.512214  0.188974 -0.003862   \n",
              "\n",
              "   distance_center  shortest_path_atoms  shortest_path_n_bonds   cosinus  \\\n",
              "0         1.631883                   14                      1  0.000000   \n",
              "1         2.670930                    0                      2 -0.333252   \n",
              "2         2.668176                    0                      2 -0.333252   \n",
              "3         2.670223                    0                      2 -0.333252   \n",
              "4         1.039220                   14                      1  0.000000   \n",
              "\n",
              "   dihedral  \n",
              "0       0.0  \n",
              "1       0.0  \n",
              "2       0.0  \n",
              "3       0.0  \n",
              "4       0.0  "
            ],
            "text/html": [
              "<div>\n",
              "<style scoped>\n",
              "    .dataframe tbody tr th:only-of-type {\n",
              "        vertical-align: middle;\n",
              "    }\n",
              "\n",
              "    .dataframe tbody tr th {\n",
              "        vertical-align: top;\n",
              "    }\n",
              "\n",
              "    .dataframe thead th {\n",
              "        text-align: right;\n",
              "    }\n",
              "</style>\n",
              "<table border=\"1\" class=\"dataframe\">\n",
              "  <thead>\n",
              "    <tr style=\"text-align: right;\">\n",
              "      <th></th>\n",
              "      <th>molecule_name</th>\n",
              "      <th>mol_index</th>\n",
              "      <th>type</th>\n",
              "      <th>scalar_coupling_constant</th>\n",
              "      <th>atom_1</th>\n",
              "      <th>num_bonds_atom_1</th>\n",
              "      <th>bond_len1</th>\n",
              "      <th>bond_len2</th>\n",
              "      <th>bond_len3</th>\n",
              "      <th>bond_len4</th>\n",
              "      <th>dist_x</th>\n",
              "      <th>dist_y</th>\n",
              "      <th>dist_z</th>\n",
              "      <th>distance_vector</th>\n",
              "      <th>cent_x</th>\n",
              "      <th>cent_y</th>\n",
              "      <th>cent_z</th>\n",
              "      <th>distance_center</th>\n",
              "      <th>shortest_path_atoms</th>\n",
              "      <th>shortest_path_n_bonds</th>\n",
              "      <th>cosinus</th>\n",
              "      <th>dihedral</th>\n",
              "    </tr>\n",
              "  </thead>\n",
              "  <tbody>\n",
              "    <tr>\n",
              "      <th>0</th>\n",
              "      <td>dsgdb9nsd_000001</td>\n",
              "      <td>1</td>\n",
              "      <td>0</td>\n",
              "      <td>84.807602</td>\n",
              "      <td>0</td>\n",
              "      <td>4</td>\n",
              "      <td>1.091797</td>\n",
              "      <td>1.091797</td>\n",
              "      <td>1.091797</td>\n",
              "      <td>1.091797</td>\n",
              "      <td>0.000220</td>\n",
              "      <td>1.192104</td>\n",
              "      <td>0.000036</td>\n",
              "      <td>1.091953</td>\n",
              "      <td>0.007424</td>\n",
              "      <td>-0.545918</td>\n",
              "      <td>-0.003012</td>\n",
              "      <td>1.631883</td>\n",
              "      <td>14</td>\n",
              "      <td>1</td>\n",
              "      <td>0.000000</td>\n",
              "      <td>0.0</td>\n",
              "    </tr>\n",
              "    <tr>\n",
              "      <th>1</th>\n",
              "      <td>dsgdb9nsd_000001</td>\n",
              "      <td>1</td>\n",
              "      <td>3</td>\n",
              "      <td>-11.257000</td>\n",
              "      <td>1</td>\n",
              "      <td>1</td>\n",
              "      <td>1.091797</td>\n",
              "      <td>0.000000</td>\n",
              "      <td>0.000000</td>\n",
              "      <td>0.000000</td>\n",
              "      <td>1.019253</td>\n",
              "      <td>2.160260</td>\n",
              "      <td>0.000003</td>\n",
              "      <td>1.783120</td>\n",
              "      <td>-0.504790</td>\n",
              "      <td>-0.734891</td>\n",
              "      <td>0.000850</td>\n",
              "      <td>2.670930</td>\n",
              "      <td>0</td>\n",
              "      <td>2</td>\n",
              "      <td>-0.333252</td>\n",
              "      <td>0.0</td>\n",
              "    </tr>\n",
              "    <tr>\n",
              "      <th>2</th>\n",
              "      <td>dsgdb9nsd_000001</td>\n",
              "      <td>1</td>\n",
              "      <td>3</td>\n",
              "      <td>-11.254800</td>\n",
              "      <td>1</td>\n",
              "      <td>1</td>\n",
              "      <td>1.091797</td>\n",
              "      <td>0.000000</td>\n",
              "      <td>0.000000</td>\n",
              "      <td>0.000000</td>\n",
              "      <td>0.294812</td>\n",
              "      <td>2.112830</td>\n",
              "      <td>0.771973</td>\n",
              "      <td>1.783147</td>\n",
              "      <td>0.271483</td>\n",
              "      <td>-0.726779</td>\n",
              "      <td>0.439310</td>\n",
              "      <td>2.668176</td>\n",
              "      <td>0</td>\n",
              "      <td>2</td>\n",
              "      <td>-0.333252</td>\n",
              "      <td>0.0</td>\n",
              "    </tr>\n",
              "    <tr>\n",
              "      <th>3</th>\n",
              "      <td>dsgdb9nsd_000001</td>\n",
              "      <td>1</td>\n",
              "      <td>3</td>\n",
              "      <td>-11.254300</td>\n",
              "      <td>1</td>\n",
              "      <td>1</td>\n",
              "      <td>1.091797</td>\n",
              "      <td>0.000000</td>\n",
              "      <td>0.000000</td>\n",
              "      <td>0.000000</td>\n",
              "      <td>0.276638</td>\n",
              "      <td>2.085032</td>\n",
              "      <td>0.817978</td>\n",
              "      <td>1.783157</td>\n",
              "      <td>0.262982</td>\n",
              "      <td>-0.721982</td>\n",
              "      <td>-0.452211</td>\n",
              "      <td>2.670223</td>\n",
              "      <td>0</td>\n",
              "      <td>2</td>\n",
              "      <td>-0.333252</td>\n",
              "      <td>0.0</td>\n",
              "    </tr>\n",
              "    <tr>\n",
              "      <th>4</th>\n",
              "      <td>dsgdb9nsd_000001</td>\n",
              "      <td>1</td>\n",
              "      <td>0</td>\n",
              "      <td>84.807404</td>\n",
              "      <td>0</td>\n",
              "      <td>4</td>\n",
              "      <td>1.091797</td>\n",
              "      <td>1.091797</td>\n",
              "      <td>1.091797</td>\n",
              "      <td>1.091797</td>\n",
              "      <td>1.049455</td>\n",
              "      <td>0.142844</td>\n",
              "      <td>0.000060</td>\n",
              "      <td>1.091952</td>\n",
              "      <td>0.512214</td>\n",
              "      <td>0.188974</td>\n",
              "      <td>-0.003862</td>\n",
              "      <td>1.039220</td>\n",
              "      <td>14</td>\n",
              "      <td>1</td>\n",
              "      <td>0.000000</td>\n",
              "      <td>0.0</td>\n",
              "    </tr>\n",
              "  </tbody>\n",
              "</table>\n",
              "</div>"
            ]
          },
          "metadata": {
            "tags": []
          },
          "execution_count": 55
        }
      ]
    },
    {
      "cell_type": "code",
      "metadata": {
        "trusted": true,
        "id": "c5LoIt2KKiDB",
        "colab_type": "code",
        "colab": {}
      },
      "source": [
        "# Starting parameters\n",
        "params_t = { 'boosting_type': 'gbdt',\n",
        "            'objective': 'regression',\n",
        "            'metric': 'mae',\n",
        "            'max_depth': -1,\n",
        "            'subsample': 0.2,\n",
        "            'colsample_bytree': 0.8,\n",
        "            'nthread': 4, \n",
        "            'device': 'cpu'}"
      ],
      "execution_count": 0,
      "outputs": []
    },
    {
      "cell_type": "code",
      "metadata": {
        "trusted": true,
        "id": "AILPUKfGKiDD",
        "colab_type": "code",
        "colab": {},
        "outputId": "e70f85b0-31d2-4520-a854-2ce7f6f4df16"
      },
      "source": [
        "# Fit model for each couplng type\n",
        "# We use the optimised set of parameters as before \n",
        "# However, due to the varying size of the subsets it was necessary to hand tune the learning rate and n_estimators to get best results in each case.\n",
        "\n",
        "types = ['1JHC', '1JHN', '2JHH', '2JHC', '2JHN', '3JHH', '3JHC', \"3JHN\"]\n",
        "params = []\n",
        "for i in range(len(types)):\n",
        "    params.append([400, 0.1, 128]) #default values: n_estimators, lr, num_leaves\n",
        "    \n",
        "params[0] = [1200, 0.1, 2048] # 1JHC\n",
        "params[1] = [1200, 0.01, 1024] # 1JHN\n",
        "params[2] = [1200, 0.05, 1024] # 2JHH\n",
        "params[3] = [1200, 0.05, 2048] # 2JHC\n",
        "params[4] = [1200, 0.01, 1024] # 2JHN\n",
        "params[5] = [1200, 0.05, 1024] # 3JHH\n",
        "params[6] = [1200, 0.1, 2048] # 3JHC\n",
        "params[7] = [1200, 0.05, 1024] # 3JHN\n",
        "\n",
        "# Data for training\n",
        "preds_type_mae = []\n",
        "preds_type = [0] * 8\n",
        "preds_acc = np.empty((0,3))\n",
        "\n",
        "def split_train_data(df, i):\n",
        "    cols =['mol_index','atom_1', 'num_bonds_atom_1', 'bond_len1', 'bond_len2', 'bond_len3', \n",
        "       'bond_len4','dist_x', 'dist_y', 'dist_z', 'distance_vector', 'cent_x', 'cent_y', 'cent_z', \n",
        "       'distance_center','shortest_path_atoms', 'shortest_path_n_bonds', 'cosinus', 'dihedral']\n",
        "    if i < 2 : cols = cols[:-2]\n",
        "    if i > 1 and i < 5: cols = cols[:-1]\n",
        "    if i > 4: cols.remove('cosinus')\n",
        "    X_train, X_val, Y_train, Y_val = train_test_split(df[cols].values, df.loc[:, 'scalar_coupling_constant'].values, test_size=0.25, random_state=142)\n",
        "    return X_train, X_val, Y_train, Y_val\n",
        "\n",
        "def mean_abs_err(y_true, y_pred):\n",
        "    return np.log(mean_absolute_error(Y_val, y_pred_lgbreg))\n",
        "\n",
        "for i, t in enumerate(types):\n",
        "    X_train, X_val, Y_train, Y_val = split_train_data(train[train.type==encoder_mapping[t]], i)\n",
        "    params_t['n_estimators']=params[i][0]\n",
        "    params_t['learning_rate']=params[i][1]\n",
        "    params_t['num_leaves']=params[i][2]\n",
        "\n",
        "    print(f'Coupling type: {t}')\n",
        "    print(f'Training on {len(X_train)} samples, validating on {len(X_val)} samples')\n",
        "    print(f'Training for {params_t[\"n_estimators\"]} rounds')\n",
        "\n",
        "    model_lgbreg_t = LGBMRegressor(**params_t, n_jobs=-1)\n",
        "    model_lgbreg_t.fit(X_train, Y_train, eval_set=[(X_train, Y_train), (X_val, Y_val)], eval_metric='mae', verbose=200, early_stopping_rounds=200)\n",
        "\n",
        "    # Predict \n",
        "\n",
        "    y_pred_lgbreg = model_lgbreg_t.predict(X_val)\n",
        "    score_lgbreg = mean_abs_err(Y_val, y_pred_lgbreg)\n",
        "    print('-----------------------------------------------------------------')\n",
        "    print(f'LGBRegression score (log MAE) of {t} coupling: {score_lgbreg}')\n",
        "    print('-----------------------------------------------------------------\\n')\n",
        "    preds_type[i] = list(zip(train.index[train.type==encoder_mapping[t]].astype(int), Y_val, y_pred_lgbreg))\n",
        "    preds_type_mae.append([t, score_lgbreg])\n",
        "    preds_acc = np.concatenate((preds_acc, np.array(preds_type[i])), axis=0)\n",
        "    preds_acc.shape"
      ],
      "execution_count": 0,
      "outputs": [
        {
          "output_type": "stream",
          "text": [
            "Coupling type: 1JHC\n",
            "Training on 532062 samples, validating on 177354 samples\n",
            "Training for 1200 rounds\n",
            "Training until validation scores don't improve for 200 rounds.\n",
            "[200]\ttraining's l1: 1.12516\tvalid_1's l1: 1.82083\n",
            "[400]\ttraining's l1: 0.75431\tvalid_1's l1: 1.74495\n",
            "[600]\ttraining's l1: 0.53981\tvalid_1's l1: 1.71492\n",
            "[800]\ttraining's l1: 0.399635\tvalid_1's l1: 1.70115\n",
            "[1000]\ttraining's l1: 0.302268\tvalid_1's l1: 1.69296\n",
            "[1200]\ttraining's l1: 0.232376\tvalid_1's l1: 1.6879\n",
            "Did not meet early stopping. Best iteration is:\n",
            "[1200]\ttraining's l1: 0.232376\tvalid_1's l1: 1.6879\n",
            "-----------------------------------------------------------------\n",
            "LGBRegression score (log MAE) of 1JHC coupling: 0.5234876750747259\n",
            "-----------------------------------------------------------------\n",
            "\n",
            "Coupling type: 1JHN\n",
            "Training on 32522 samples, validating on 10841 samples\n",
            "Training for 1200 rounds\n",
            "Training until validation scores don't improve for 200 rounds.\n",
            "[200]\ttraining's l1: 1.4765\tvalid_1's l1: 1.59597\n",
            "[400]\ttraining's l1: 0.523044\tvalid_1's l1: 0.865793\n",
            "[600]\ttraining's l1: 0.364775\tvalid_1's l1: 0.803997\n",
            "[800]\ttraining's l1: 0.281385\tvalid_1's l1: 0.786631\n",
            "[1000]\ttraining's l1: 0.222735\tvalid_1's l1: 0.778736\n",
            "[1200]\ttraining's l1: 0.180085\tvalid_1's l1: 0.774778\n",
            "Did not meet early stopping. Best iteration is:\n",
            "[1200]\ttraining's l1: 0.180085\tvalid_1's l1: 0.774778\n",
            "-----------------------------------------------------------------\n",
            "LGBRegression score (log MAE) of 1JHN coupling: -0.2551790535930156\n",
            "-----------------------------------------------------------------\n",
            "\n",
            "Coupling type: 2JHH\n",
            "Training on 283527 samples, validating on 94509 samples\n",
            "Training for 1200 rounds\n",
            "Training until validation scores don't improve for 200 rounds.\n",
            "[200]\ttraining's l1: 0.517612\tvalid_1's l1: 0.67362\n",
            "[400]\ttraining's l1: 0.417142\tvalid_1's l1: 0.649315\n",
            "[600]\ttraining's l1: 0.347898\tvalid_1's l1: 0.637612\n",
            "[800]\ttraining's l1: 0.295537\tvalid_1's l1: 0.630858\n",
            "[1000]\ttraining's l1: 0.254031\tvalid_1's l1: 0.62635\n",
            "[1200]\ttraining's l1: 0.221184\tvalid_1's l1: 0.623693\n",
            "Did not meet early stopping. Best iteration is:\n",
            "[1200]\ttraining's l1: 0.221184\tvalid_1's l1: 0.623693\n",
            "-----------------------------------------------------------------\n",
            "LGBRegression score (log MAE) of 2JHH coupling: -0.4720967429659946\n",
            "-----------------------------------------------------------------\n",
            "\n",
            "Coupling type: 2JHC\n",
            "Training on 855495 samples, validating on 285165 samples\n",
            "Training for 1200 rounds\n",
            "Training until validation scores don't improve for 200 rounds.\n",
            "[200]\ttraining's l1: 0.842251\tvalid_1's l1: 1.05176\n",
            "[400]\ttraining's l1: 0.683424\tvalid_1's l1: 0.989593\n",
            "[600]\ttraining's l1: 0.576111\tvalid_1's l1: 0.9568\n",
            "[800]\ttraining's l1: 0.494993\tvalid_1's l1: 0.935192\n",
            "[1000]\ttraining's l1: 0.431495\tvalid_1's l1: 0.920137\n",
            "[1200]\ttraining's l1: 0.376884\tvalid_1's l1: 0.908225\n",
            "Did not meet early stopping. Best iteration is:\n",
            "[1200]\ttraining's l1: 0.376884\tvalid_1's l1: 0.908225\n",
            "-----------------------------------------------------------------\n",
            "LGBRegression score (log MAE) of 2JHC coupling: -0.09626350038702385\n",
            "-----------------------------------------------------------------\n",
            "\n",
            "Coupling type: 2JHN\n",
            "Training on 89437 samples, validating on 29813 samples\n",
            "Training for 1200 rounds\n",
            "Training until validation scores don't improve for 200 rounds.\n",
            "[200]\ttraining's l1: 0.796227\tvalid_1's l1: 0.929914\n",
            "[400]\ttraining's l1: 0.441775\tvalid_1's l1: 0.645078\n",
            "[600]\ttraining's l1: 0.346456\tvalid_1's l1: 0.593105\n",
            "[800]\ttraining's l1: 0.292264\tvalid_1's l1: 0.572902\n",
            "[1000]\ttraining's l1: 0.254061\tvalid_1's l1: 0.562031\n",
            "[1200]\ttraining's l1: 0.223136\tvalid_1's l1: 0.553819\n",
            "Did not meet early stopping. Best iteration is:\n",
            "[1200]\ttraining's l1: 0.223136\tvalid_1's l1: 0.553819\n",
            "-----------------------------------------------------------------\n",
            "LGBRegression score (log MAE) of 2JHN coupling: -0.5909176767105098\n",
            "-----------------------------------------------------------------\n",
            "\n",
            "Coupling type: 3JHH\n",
            "Training on 442950 samples, validating on 147651 samples\n",
            "Training for 1200 rounds\n",
            "Training until validation scores don't improve for 200 rounds.\n",
            "[200]\ttraining's l1: 0.426531\tvalid_1's l1: 0.502933\n",
            "[400]\ttraining's l1: 0.360258\tvalid_1's l1: 0.479787\n",
            "[600]\ttraining's l1: 0.313617\tvalid_1's l1: 0.466941\n",
            "[800]\ttraining's l1: 0.276686\tvalid_1's l1: 0.458085\n",
            "[1000]\ttraining's l1: 0.24593\tvalid_1's l1: 0.451609\n",
            "[1200]\ttraining's l1: 0.220504\tvalid_1's l1: 0.447034\n",
            "Did not meet early stopping. Best iteration is:\n",
            "[1200]\ttraining's l1: 0.220504\tvalid_1's l1: 0.447034\n",
            "-----------------------------------------------------------------\n",
            "LGBRegression score (log MAE) of 3JHH coupling: -0.8051198587461464\n",
            "-----------------------------------------------------------------\n",
            "\n",
            "Coupling type: 3JHC\n",
            "Training on 1132747 samples, validating on 377583 samples\n",
            "Training for 1200 rounds\n",
            "Training until validation scores don't improve for 200 rounds.\n",
            "[200]\ttraining's l1: 0.541215\tvalid_1's l1: 0.715298\n",
            "[400]\ttraining's l1: 0.409061\tvalid_1's l1: 0.670386\n",
            "[600]\ttraining's l1: 0.324933\tvalid_1's l1: 0.647276\n",
            "[800]\ttraining's l1: 0.266527\tvalid_1's l1: 0.634383\n",
            "[1000]\ttraining's l1: 0.221396\tvalid_1's l1: 0.625324\n",
            "[1200]\ttraining's l1: 0.186039\tvalid_1's l1: 0.619163\n",
            "Did not meet early stopping. Best iteration is:\n",
            "[1200]\ttraining's l1: 0.186039\tvalid_1's l1: 0.619163\n",
            "-----------------------------------------------------------------\n",
            "LGBRegression score (log MAE) of 3JHC coupling: -0.4793868063347057\n",
            "-----------------------------------------------------------------\n",
            "\n",
            "Coupling type: 3JHN\n",
            "Training on 124796 samples, validating on 41599 samples\n",
            "Training for 1200 rounds\n",
            "Training until validation scores don't improve for 200 rounds.\n",
            "[200]\ttraining's l1: 0.151951\tvalid_1's l1: 0.275906\n",
            "[400]\ttraining's l1: 0.0972039\tvalid_1's l1: 0.262501\n",
            "[600]\ttraining's l1: 0.0666026\tvalid_1's l1: 0.256755\n",
            "[800]\ttraining's l1: 0.0473841\tvalid_1's l1: 0.253812\n",
            "[1000]\ttraining's l1: 0.0347919\tvalid_1's l1: 0.25228\n",
            "[1200]\ttraining's l1: 0.0259398\tvalid_1's l1: 0.251267\n",
            "Did not meet early stopping. Best iteration is:\n",
            "[1200]\ttraining's l1: 0.0259398\tvalid_1's l1: 0.251267\n",
            "-----------------------------------------------------------------\n",
            "LGBRegression score (log MAE) of 3JHN coupling: -1.3812396125183908\n",
            "-----------------------------------------------------------------\n",
            "\n"
          ],
          "name": "stdout"
        }
      ]
    },
    {
      "cell_type": "code",
      "metadata": {
        "trusted": true,
        "id": "9f6kdaZxKiDF",
        "colab_type": "code",
        "colab": {},
        "outputId": "49dc1e1c-db2c-4b3a-c05a-c9d7c1521ace"
      },
      "source": [
        "score_lgbreg_acc = np.log(mean_absolute_error(preds_acc[:,1], preds_acc[:,2]))\n",
        "print(f'LGBRegression score (log MAE) of all couplings: {score_lgbreg_acc}')"
      ],
      "execution_count": 0,
      "outputs": [
        {
          "output_type": "stream",
          "text": [
            "LGBRegression score (log MAE) of all couplings: -0.2010240765803523\n"
          ],
          "name": "stdout"
        }
      ]
    },
    {
      "cell_type": "markdown",
      "metadata": {
        "id": "j0Kn6DfDKiDH",
        "colab_type": "text"
      },
      "source": [
        "This is a better result than training on the datset as a whole. "
      ]
    },
    {
      "cell_type": "code",
      "metadata": {
        "trusted": true,
        "id": "LyVEiPYAKiDH",
        "colab_type": "code",
        "colab": {},
        "outputId": "0e9fbcfc-aab3-454d-a503-be2eca4baec9"
      },
      "source": [
        "# plot predicted vs actual for whole validation set\n",
        "import matplotlib.pyplot as plt\n",
        "plot_data_lgbreg = pd.DataFrame(data=preds_acc[:,1], columns=['scalar_coupling_constants'])\n",
        "plot_data_lgbreg.index.name = 'id'\n",
        "plot_data_lgbreg['preds'] = preds_acc[:,2]\n",
        "\n",
        "plot_preds(plot_data_lgbreg, \"LGBM Regressor\")"
      ],
      "execution_count": 0,
      "outputs": [
        {
          "output_type": "display_data",
          "data": {
            "text/plain": [
              "<Figure size 432x432 with 1 Axes>"
            ],
            "image/png": "[encoded data removed]"
          },
          "metadata": {
            "tags": [],
            "needs_background": "light"
          }
        }
      ]
    },
    {
      "cell_type": "code",
      "metadata": {
        "trusted": true,
        "id": "AHdWDTN4KiDJ",
        "colab_type": "code",
        "colab": {},
        "outputId": "fefdc4ed-3d37-4235-ef53-d9bb14daecfd"
      },
      "source": [
        "# Plot log MAE score by coupling type\n",
        "from matplotlib.ticker import FormatStrFormatter\n",
        "vals = [i[1] for i in preds_type_mae]\n",
        "fig, ax = plt.subplots(figsize=(8, 6))\n",
        "plt.barh(types, vals)\n",
        "plt.xlabel('Log mean absolute error')\n",
        "plt.ylabel('Coupling type')\n",
        "plt.title('Coupling Type vs Log MAE', pad=20)\n",
        "plt.show()\n"
      ],
      "execution_count": 0,
      "outputs": [
        {
          "output_type": "display_data",
          "data": {
            "text/plain": [
              "<Figure size 576x432 with 1 Axes>"
            ],
            "image/png": "[encoded data removed]"
          },
          "metadata": {
            "tags": [],
            "needs_background": "light"
          }
        }
      ]
    },
    {
      "cell_type": "code",
      "metadata": {
        "trusted": true,
        "id": "YQ4AcmJlKiDN",
        "colab_type": "code",
        "colab": {},
        "outputId": "9b114bf1-7543-44cf-e6b1-8eb81e178f1e"
      },
      "source": [
        "# plot predicted vs actual for each type of j coupling, 1j, 2j and 3j\n",
        "import matplotlib.pyplot as plt\n",
        "\n",
        "fig, ax = plt.subplots(figsize=(30,4))\n",
        "low = [50, 20, -30, -30, -5, -5, -20, -5]\n",
        "high = [220, 80, 15, 50, 20, 20, 60, 15]\n",
        "def plot_preds_by_type(data, i, t):\n",
        "    plt.subplot(1,8,i+1)\n",
        "    sns.scatterplot(x=np.array(data)[:,1], y=np.array(data)[:,2])\n",
        "    plt.title(f'{t} coupling type', pad='20')\n",
        "    plt.xlim(low[i], high[i])\n",
        "    plt.ylim(low[i], high[i])\n",
        "\n",
        "for i, t in enumerate(types): \n",
        "    plot_preds_by_type(preds_type[i], i, t)\n",
        "    \n",
        "fig.show()"
      ],
      "execution_count": 0,
      "outputs": [
        {
          "output_type": "display_data",
          "data": {
            "text/plain": [
              "<Figure size 2160x288 with 8 Axes>"
            ],
            "image/png": "[encoded data removed]"
          },
          "metadata": {
            "tags": [],
            "needs_background": "light"
          }
        }
      ]
    },
    {
      "cell_type": "markdown",
      "metadata": {
        "id": "Kv-0cILIKiDP",
        "colab_type": "text"
      },
      "source": [
        "## Sample submission \n",
        "\n",
        "Final predictions on the test set were made using LGBMRegressor model trained on the subsetted dataset with hyperparameter tuning by GridSeach and increasing n_iterations to 4000 (not shown for brevity). This gave a best validation log MAE of 0.38.\n",
        "\n",
        "Predictions on the test set using this model and submission to Kaggle recorded a MAE of -0.44 which placed 1697/2740 on private leaderboard."
      ]
    },
    {
      "cell_type": "code",
      "metadata": {
        "trusted": true,
        "id": "C5tf6r57KiDQ",
        "colab_type": "code",
        "colab": {}
      },
      "source": [
        "# make predictions on test set (remember X_test = test[cols].values)\n",
        "predictions = model_lgbreg.predict(X_test)"
      ],
      "execution_count": 0,
      "outputs": []
    },
    {
      "cell_type": "code",
      "metadata": {
        "trusted": true,
        "id": "bKakMZgzKiDR",
        "colab_type": "code",
        "colab": {}
      },
      "source": [
        "# prepare submission file\n",
        "sample_submission = pd.read_csv('../input/champs-scalar-coupling/sample_submission.csv')\n",
        "\n",
        "sub = sample_submission.copy()\n",
        "sub['scalar_coupling_constant'] = predictions\n",
        "sub.to_csv('LGBM_submission.csv', index=False)"
      ],
      "execution_count": 0,
      "outputs": []
    },
    {
      "cell_type": "code",
      "metadata": {
        "trusted": true,
        "id": "vZ3S5JUUKiDS",
        "colab_type": "code",
        "colab": {},
        "outputId": "e3e3f233-a08b-4bae-ad50-2a3504e4c17b"
      },
      "source": [
        "sub.head()"
      ],
      "execution_count": 0,
      "outputs": [
        {
          "output_type": "execute_result",
          "data": {
            "text/plain": [
              "        id  scalar_coupling_constant\n",
              "0  4658147                 15.282586\n",
              "1  4658148                203.466888\n",
              "2  4658149                 -0.412847\n",
              "3  4658150                202.394570\n",
              "4  4658151                 14.907041"
            ],
            "text/html": [
              "<div>\n",
              "<style scoped>\n",
              "    .dataframe tbody tr th:only-of-type {\n",
              "        vertical-align: middle;\n",
              "    }\n",
              "\n",
              "    .dataframe tbody tr th {\n",
              "        vertical-align: top;\n",
              "    }\n",
              "\n",
              "    .dataframe thead th {\n",
              "        text-align: right;\n",
              "    }\n",
              "</style>\n",
              "<table border=\"1\" class=\"dataframe\">\n",
              "  <thead>\n",
              "    <tr style=\"text-align: right;\">\n",
              "      <th></th>\n",
              "      <th>id</th>\n",
              "      <th>scalar_coupling_constant</th>\n",
              "    </tr>\n",
              "  </thead>\n",
              "  <tbody>\n",
              "    <tr>\n",
              "      <th>0</th>\n",
              "      <td>4658147</td>\n",
              "      <td>15.282586</td>\n",
              "    </tr>\n",
              "    <tr>\n",
              "      <th>1</th>\n",
              "      <td>4658148</td>\n",
              "      <td>203.466888</td>\n",
              "    </tr>\n",
              "    <tr>\n",
              "      <th>2</th>\n",
              "      <td>4658149</td>\n",
              "      <td>-0.412847</td>\n",
              "    </tr>\n",
              "    <tr>\n",
              "      <th>3</th>\n",
              "      <td>4658150</td>\n",
              "      <td>202.394570</td>\n",
              "    </tr>\n",
              "    <tr>\n",
              "      <th>4</th>\n",
              "      <td>4658151</td>\n",
              "      <td>14.907041</td>\n",
              "    </tr>\n",
              "  </tbody>\n",
              "</table>\n",
              "</div>"
            ]
          },
          "metadata": {
            "tags": []
          },
          "execution_count": 65
        }
      ]
    },
    {
      "cell_type": "markdown",
      "metadata": {
        "id": "3jfDz1hHKiDU",
        "colab_type": "text"
      },
      "source": [
        "## Next Steps\n",
        "1. From our reading about coupling constants we know that their magnitude (the prediction target) is mainly determined by atom hybridizations, bond lengths and coupling angles (cosine and dihedral). However, it is also known that the coupling constant can be calculated from the 3D geometry of the molecule (the current standard). Thus, it follows that adding further features describing atomic geometry might improve prediction. One approach is to calculate a larger set of distance vectors between neighboring atoms to give a fuller picture of the molecular geometry surrrounding coupled atoms.  \n",
        "\n",
        "2. This approach will generate a lot more data for each coupling pair so we can move to a deep learning model which might be able to learn more nuanced patterns in the training set and improve accuracy on the test set. \n",
        "\n",
        "We take both of these approaches and implement them in the next and final notebook in this short series https://www.kaggle.com/mathewhall/champs-molecular-properties-nn-models\n"
      ]
    }
  ]
}